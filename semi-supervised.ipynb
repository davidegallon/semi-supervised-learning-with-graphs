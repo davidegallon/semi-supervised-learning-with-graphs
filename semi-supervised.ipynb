{
  "nbformat": 4,
  "nbformat_minor": 0,
  "metadata": {
    "kernelspec": {
      "name": "python3",
      "display_name": "Python 3"
    },
    "colab": {
      "name": "Davide_Gallon_Homework2.ipynb",
      "provenance": [],
      "collapsed_sections": [],
      "toc_visible": true
    },
    "language_info": {
      "name": "python"
    }
  },
  "cells": [
    {
      "cell_type": "markdown",
      "metadata": {
        "id": "AVP6LemKp8f6"
      },
      "source": [
        "# Centrality and semi-supervised learning with graphs and hypergraphs\n",
        "\n",
        "> Blocco con rientro\n",
        "\n"
      ]
    },
    {
      "cell_type": "markdown",
      "metadata": {
        "id": "ZaKY-h79p8gA"
      },
      "source": [
        "# Centrality "
      ]
    },
    {
      "cell_type": "code",
      "metadata": {
        "id": "WP2rb_vtxaWr"
      },
      "source": [
        "from sklearn.neighbors import NearestNeighbors, kneighbors_graph\n",
        "import numpy as np\n",
        "import scipy as sp\n",
        "import matplotlib.pyplot as plt\n",
        "import pandas as pd\n",
        "from sklearn import metrics\n",
        "import networkx as nx\n",
        "import scipy.io as sio\n",
        "from scipy.sparse import csr_matrix\n",
        "from sklearn.linear_model import LogisticRegression"
      ],
      "execution_count": null,
      "outputs": []
    },
    {
      "cell_type": "markdown",
      "metadata": {
        "id": "eEVw733vyGBQ"
      },
      "source": [
        "## Function preamble"
      ]
    },
    {
      "cell_type": "markdown",
      "metadata": {
        "id": "0rGC1MIBJJVZ"
      },
      "source": [
        "### Power method"
      ]
    },
    {
      "cell_type": "code",
      "metadata": {
        "id": "OYNLqknyIegg"
      },
      "source": [
        "def power_method(n,A, tol=1e-6,maxit=1000, norm='l2'):\n",
        "    # Input:\n",
        "    # n is the size of the matrix M which is part of the function Mf\n",
        "    # A matrix\n",
        "    # tol and maxit are the tolerance for stopping the iterations and the maximum number of iterations we can implement\n",
        "    # Output: eigenvalue and eigenvector\n",
        "\n",
        "    # Initialization\n",
        "    count = 0\n",
        "    error = 1\n",
        "    x = np.random.rand(n)\n",
        "    mu_new = 0\n",
        "    if norm == 'l2':\n",
        "      while count < maxit and error > tol:\n",
        "        mu_old = mu_new\n",
        "        y = A@x                         # y = A x\n",
        "        x = y/np.linalg.norm(y)         # normalize \n",
        "        mu_new = x@A@x                  # mu = x^t A x\n",
        "        error = abs(mu_new-mu_old)      # absolute value between two consecutive mu\n",
        "        count = count+1                 # aggiornamento count\n",
        "    if norm == 'l1':\n",
        "        mu_old = mu_new\n",
        "        y = A@x                         # y = A x\n",
        "        x = y/sum(y)                    # normalize \n",
        "        mu_new = x@A@x                  # mu = x^t A x\n",
        "        error = abs(mu_new-mu_old)      # absolute value between two consecutive mu\n",
        "        count = count+1                 # aggiornamento count\n",
        "\n",
        "    return mu_new, x\n",
        "    "
      ],
      "execution_count": null,
      "outputs": []
    },
    {
      "cell_type": "markdown",
      "metadata": {
        "id": "76PM9ML-JPey"
      },
      "source": [
        "### Functions"
      ]
    },
    {
      "cell_type": "code",
      "metadata": {
        "id": "PBc7YAdSx0g-"
      },
      "source": [
        "def load_Harvard_dataset():\n",
        "  # Output: adjacency matrix, list of node names\n",
        "  \n",
        "  # load Adjacency matrix\n",
        "  Adj = sio.mmread('Harvard500.mtx')  # sparse coordinate format\n",
        "  Adj = csr_matrix(Adj)\n",
        "\n",
        "  # load node names\n",
        "  f = open('Harvard500_nodename.txt')\n",
        "  names = []\n",
        "  for riga in f.readlines():\n",
        "    names.append(riga)\n",
        "  f.close() \n",
        "\n",
        "  return Adj, names"
      ],
      "execution_count": null,
      "outputs": []
    },
    {
      "cell_type": "code",
      "metadata": {
        "id": "3QfWT8JHx4gN"
      },
      "source": [
        "def largest_strongly_connected_component(Adj, tot_link):\n",
        "  # Input: adjacency matrix, list of node names\n",
        "  # Output: adj matrix of the largest strongly connected component, updated list of node names\n",
        "\n",
        "  # adj matrix of the largest strongly connected component\n",
        "  G = nx.from_numpy_matrix(Adj.toarray(),create_using=nx.DiGraph)  # graph \n",
        "  index = max(nx.strongly_connected_components(G), key=len)        # set of nodes in largest scc    \n",
        "  index= list(index)                                               # tranform in list\n",
        "  A = Adj[index,:][:,index]                                        # extract adj matrix of largest scc    \n",
        "\n",
        "  # extract list of node names                       \n",
        "  link = [tot_link[i] for i in index]                              \n",
        "  \n",
        "  return A, link"
      ],
      "execution_count": null,
      "outputs": []
    },
    {
      "cell_type": "code",
      "metadata": {
        "id": "nOde4gQ7yFLD"
      },
      "source": [
        "def degree_centrality(A):\n",
        "  # Compute in-degree and out-degree\n",
        "\n",
        "  n = np.shape(A)[0]\n",
        "  d_in = (np.ones(n))@A     # 1^t A\n",
        "  d_out = A@(np.ones(n))    # A   1\n",
        "\n",
        "  return d_in/sum(d_in), d_out/sum(d_out)"
      ],
      "execution_count": null,
      "outputs": []
    },
    {
      "cell_type": "code",
      "metadata": {
        "id": "MQrAVpDVyaFn"
      },
      "source": [
        "def eigenvector_centrality(A):\n",
        "  # Compute eigenvector in and eigenvector out\n",
        "\n",
        "  n = np.shape(A)[0]                                                # A dimension\n",
        "\n",
        "  # Compute eigenvalues and eigenspace\n",
        "  eigval_in, eig_in = power_method(n, A, tol=1e-8, maxit=1000)      # Power method with A\n",
        "  eigval_out, eig_out = power_method(n, A.T, tol=1e-8, maxit=1000)  # Power method with A^t\n",
        "  \n",
        "  return eig_in/sum(eig_in), eig_out/sum(eig_out)"
      ],
      "execution_count": null,
      "outputs": []
    },
    {
      "cell_type": "code",
      "metadata": {
        "id": "DWPbYd3IyegS"
      },
      "source": [
        "def hits_centrality(A):\n",
        "  # Compute hubs and authorities\n",
        "\n",
        "  n = np.shape(A)[0]                                         # A dimension\n",
        "\n",
        "  # Create matrix M=[0   A\n",
        "  #                  A^t 0]\n",
        "  U = sp.sparse.hstack([np.zeros([n,n]),A])\n",
        "  L = sp.sparse.hstack([A.T,np.zeros([n,n])])\n",
        "  M = sp.sparse.vstack([U,L])\n",
        "  \n",
        "  # Compute eigenvalues and eigenspace of M\n",
        "  eigval, eig = power_method(2*n,M, tol=1e-6,maxit=1000)\n",
        "\n",
        "  hubs = eig[0:n]\n",
        "  authorities = eig[n:]\n",
        "  \n",
        "  return hubs/sum(hubs), authorities/sum(authorities)"
      ],
      "execution_count": null,
      "outputs": []
    },
    {
      "cell_type": "code",
      "metadata": {
        "id": "H_BKDp5HyjHy"
      },
      "source": [
        "def pagerank(A, random_jump_vector=(1/335)*np.ones(335),alfa=0.85):\n",
        "  # Compute pagerank\n",
        "\n",
        "  n = np.shape(A)[0]                                     # A dimension\n",
        "  d_out = A@(np.ones(n))                                 # D = A 1\n",
        "  invD = sp.sparse.diags(1/d_out)                        # D^(-1)\n",
        "  Y = np.vstack([random_jump_vector]*n)                  # create matrix Y\n",
        "  P = np.asarray(alfa*invD@A + (1-alfa)*Y)               # matrix P\n",
        "  \n",
        "  # we can find the solution in two ways\n",
        "  # 1) using the power method on the matrix P^t and using the norm 1 instead the norm 2\n",
        "  eigval, x1 = power_method(n,P.T, tol=1e-6,maxit=1000,norm='l1')  \n",
        "  # 2) soving the linear system [1 - (alfa * A^t * D^-1)] x = (1-alfa)*(random jump)\n",
        "  x2 = sp.sparse.linalg.spsolve(sp.sparse.diags(np.ones(n))-alfa*A.T@invD,(1-alfa)*random_jump_vector)\n",
        "  return x2"
      ],
      "execution_count": null,
      "outputs": []
    },
    {
      "cell_type": "code",
      "metadata": {
        "id": "qCZZ3oaKynhQ"
      },
      "source": [
        "def compute_centrality(A,name=\"degree\"):\n",
        "  if name ==\"d_in\":\n",
        "    centrality, _ = degree_centrality(A)\n",
        "  if name ==\"d_out\":\n",
        "    _, centrality = degree_centrality(A)\n",
        "  if name == \"pagerank\":\n",
        "    centrality = pagerank(A, random_jump_vector)\n",
        "  if name == \"hubs\":\n",
        "    centrality, _ = hits_centrality(A)\n",
        "  if name == \"authorities\":\n",
        "    _, centrality = hits_centrality(A)\n",
        "  if name == \"eig_in\":\n",
        "    centrality, _ = eigenvector_centrality(A)\n",
        "  if name == \"eig_out\":\n",
        "    _, centrality = eigenvector_centrality(A)\n",
        "  return centrality"
      ],
      "execution_count": null,
      "outputs": []
    },
    {
      "cell_type": "markdown",
      "metadata": {
        "id": "xhp8nO0Dp8gK"
      },
      "source": [
        "## Warm up with a small graph dataset\n",
        "Download the Harvard network dataset from:   \n",
        "https://suitesparse-collection-website.herokuapp.com/MM/MathWorks/Harvard500.tar.gz   \n",
        "and load it into a directed adjacency matrix + a list (or dictionary) of node names"
      ]
    },
    {
      "cell_type": "code",
      "metadata": {
        "id": "ADVACVJZ4Bj6"
      },
      "source": [
        "Adj, tot_link = load_Harvard_dataset()"
      ],
      "execution_count": null,
      "outputs": []
    },
    {
      "cell_type": "markdown",
      "metadata": {
        "id": "ayxZRqO_p8gO"
      },
      "source": [
        "Extract the adjacency matrix of the subgraph corresponding to the largest connected component and the names (links) of nodes"
      ]
    },
    {
      "cell_type": "code",
      "metadata": {
        "id": "hZNxDkWfCrRl"
      },
      "source": [
        "A,link = largest_strongly_connected_component(Adj,tot_link) "
      ],
      "execution_count": null,
      "outputs": []
    },
    {
      "cell_type": "markdown",
      "metadata": {
        "id": "tOAmV48Bp8gQ"
      },
      "source": [
        "### Q1. \n",
        "Compute the following centralities:    \n",
        "- indegree, \n",
        "- outdegree, \n",
        "- eigenvector_in, \n",
        "- eigenvector_out, \n",
        "- hub, \n",
        "- authorities, \n",
        "- Pagerank (alpha = 0.85, uniform probability to random jump)  \n",
        "\n",
        "using the power method for those that require eigenvector computations.\n",
        "Normalize all centrality vectors so that the sum of their entries is one. "
      ]
    },
    {
      "cell_type": "code",
      "metadata": {
        "id": "cT5p6Y2jDIwR"
      },
      "source": [
        "names = [\"d_in\", \"d_out\", \"pagerank\", \"hubs\", \"authorities\", \"eig_in\", \"eig_out\"]\n",
        "random_jump_vector=(1/np.shape(A)[0])*np.ones(np.shape(A)[0])\n",
        "centralities = dict();\n",
        "for name in names:\n",
        "    centralities[name] = compute_centrality(A,name=name)"
      ],
      "execution_count": null,
      "outputs": []
    },
    {
      "cell_type": "markdown",
      "metadata": {
        "id": "6ElrA8xIp8gU"
      },
      "source": [
        "### Q2. \n",
        "Print a table that shows the top 10 nodes for all these methods (list the names of the nodes) and produce a scatter plot comparing Pagerank with hubs and authorities. Scatter plots are standard plotting tools, which you can read about for example [here](https://matplotlib.org/stable/gallery/shapes_and_collections/scatter.html)"
      ]
    },
    {
      "cell_type": "code",
      "metadata": {
        "id": "_JGKWxd45LjE"
      },
      "source": [
        "def top_nodes_table(centrality,link):\n",
        "  # Input: centrality and labels\n",
        "  # Output: top ten node names and index\n",
        "\n",
        "  top_nodes = np.argsort(centrality)[::-1][:10]\n",
        "  top_nodes_name = [link[i] for i in top_nodes]\n",
        "  return top_nodes_name, top_nodes"
      ],
      "execution_count": null,
      "outputs": []
    },
    {
      "cell_type": "markdown",
      "metadata": {
        "id": "oGGqpAUxZ-Iz"
      },
      "source": [
        "Table that shows the top 10 nodes for all these methods"
      ]
    },
    {
      "cell_type": "code",
      "metadata": {
        "colab": {
          "base_uri": "https://localhost:8080/",
          "height": 363
        },
        "id": "o5rsi87XLprj",
        "outputId": "44de155a-90ae-4ba5-d8f2-52ba8808651d"
      },
      "source": [
        "# Create dict with name centralities and nodes (if you want to see node names is sufficient to eliminate comment)\n",
        "table = dict()\n",
        "for name in names:\n",
        "  top_nodes_name, top_nodes_index = top_nodes_table(centralities[name],link)\n",
        "  table[name] = top_nodes_index\n",
        "  #table[name] = top_nodes_name\n",
        "\n",
        "df = pd.DataFrame(table)\n",
        "  \n",
        "# displaying the DataFrame\n",
        "pd.DataFrame(df)"
      ],
      "execution_count": null,
      "outputs": [
        {
          "output_type": "execute_result",
          "data": {
            "text/html": [
              "<div>\n",
              "<style scoped>\n",
              "    .dataframe tbody tr th:only-of-type {\n",
              "        vertical-align: middle;\n",
              "    }\n",
              "\n",
              "    .dataframe tbody tr th {\n",
              "        vertical-align: top;\n",
              "    }\n",
              "\n",
              "    .dataframe thead th {\n",
              "        text-align: right;\n",
              "    }\n",
              "</style>\n",
              "<table border=\"1\" class=\"dataframe\">\n",
              "  <thead>\n",
              "    <tr style=\"text-align: right;\">\n",
              "      <th></th>\n",
              "      <th>d_in</th>\n",
              "      <th>d_out</th>\n",
              "      <th>pagerank</th>\n",
              "      <th>hubs</th>\n",
              "      <th>authorities</th>\n",
              "      <th>eig_in</th>\n",
              "      <th>eig_out</th>\n",
              "    </tr>\n",
              "  </thead>\n",
              "  <tbody>\n",
              "    <tr>\n",
              "      <th>0</th>\n",
              "      <td>38</td>\n",
              "      <td>0</td>\n",
              "      <td>4</td>\n",
              "      <td>0</td>\n",
              "      <td>186</td>\n",
              "      <td>0</td>\n",
              "      <td>16</td>\n",
              "    </tr>\n",
              "    <tr>\n",
              "      <th>1</th>\n",
              "      <td>37</td>\n",
              "      <td>15</td>\n",
              "      <td>38</td>\n",
              "      <td>182</td>\n",
              "      <td>189</td>\n",
              "      <td>16</td>\n",
              "      <td>177</td>\n",
              "    </tr>\n",
              "    <tr>\n",
              "      <th>2</th>\n",
              "      <td>15</td>\n",
              "      <td>171</td>\n",
              "      <td>15</td>\n",
              "      <td>177</td>\n",
              "      <td>178</td>\n",
              "      <td>182</td>\n",
              "      <td>189</td>\n",
              "    </tr>\n",
              "    <tr>\n",
              "      <th>3</th>\n",
              "      <td>170</td>\n",
              "      <td>170</td>\n",
              "      <td>37</td>\n",
              "      <td>188</td>\n",
              "      <td>179</td>\n",
              "      <td>180</td>\n",
              "      <td>188</td>\n",
              "    </tr>\n",
              "    <tr>\n",
              "      <th>4</th>\n",
              "      <td>12</td>\n",
              "      <td>165</td>\n",
              "      <td>6</td>\n",
              "      <td>187</td>\n",
              "      <td>180</td>\n",
              "      <td>179</td>\n",
              "      <td>186</td>\n",
              "    </tr>\n",
              "    <tr>\n",
              "      <th>5</th>\n",
              "      <td>6</td>\n",
              "      <td>206</td>\n",
              "      <td>0</td>\n",
              "      <td>186</td>\n",
              "      <td>181</td>\n",
              "      <td>186</td>\n",
              "      <td>192</td>\n",
              "    </tr>\n",
              "    <tr>\n",
              "      <th>6</th>\n",
              "      <td>0</td>\n",
              "      <td>100</td>\n",
              "      <td>12</td>\n",
              "      <td>185</td>\n",
              "      <td>183</td>\n",
              "      <td>177</td>\n",
              "      <td>185</td>\n",
              "    </tr>\n",
              "    <tr>\n",
              "      <th>7</th>\n",
              "      <td>16</td>\n",
              "      <td>16</td>\n",
              "      <td>170</td>\n",
              "      <td>184</td>\n",
              "      <td>184</td>\n",
              "      <td>187</td>\n",
              "      <td>184</td>\n",
              "    </tr>\n",
              "    <tr>\n",
              "      <th>8</th>\n",
              "      <td>215</td>\n",
              "      <td>226</td>\n",
              "      <td>7</td>\n",
              "      <td>179</td>\n",
              "      <td>185</td>\n",
              "      <td>188</td>\n",
              "      <td>183</td>\n",
              "    </tr>\n",
              "    <tr>\n",
              "      <th>9</th>\n",
              "      <td>217</td>\n",
              "      <td>6</td>\n",
              "      <td>16</td>\n",
              "      <td>180</td>\n",
              "      <td>188</td>\n",
              "      <td>185</td>\n",
              "      <td>193</td>\n",
              "    </tr>\n",
              "  </tbody>\n",
              "</table>\n",
              "</div>"
            ],
            "text/plain": [
              "   d_in  d_out  pagerank  hubs  authorities  eig_in  eig_out\n",
              "0    38      0         4     0          186       0       16\n",
              "1    37     15        38   182          189      16      177\n",
              "2    15    171        15   177          178     182      189\n",
              "3   170    170        37   188          179     180      188\n",
              "4    12    165         6   187          180     179      186\n",
              "5     6    206         0   186          181     186      192\n",
              "6     0    100        12   185          183     177      185\n",
              "7    16     16       170   184          184     187      184\n",
              "8   215    226         7   179          185     188      183\n",
              "9   217      6        16   180          188     185      193"
            ]
          },
          "metadata": {
            "tags": []
          },
          "execution_count": 14
        }
      ]
    },
    {
      "cell_type": "markdown",
      "metadata": {
        "id": "BIZ4F95W_5ly"
      },
      "source": [
        "### Scatter"
      ]
    },
    {
      "cell_type": "markdown",
      "metadata": {
        "id": "df4nvNB4m8TW"
      },
      "source": [
        "Scatter plot comparing Pagerank with hubs and authorities"
      ]
    },
    {
      "cell_type": "code",
      "metadata": {
        "colab": {
          "base_uri": "https://localhost:8080/",
          "height": 486
        },
        "id": "fqvl3NnUeGsI",
        "outputId": "5c64a2c7-332d-4315-ba3d-a61e7e20d3d7"
      },
      "source": [
        "# Compute 500 random points in [0,500]x[0,500]\n",
        "N = 500\n",
        "x = 500*np.random.rand(N)\n",
        "#x = np.arange(500)\n",
        "y = 500*np.random.rand(N)\n",
        "\n",
        "# Rescale value of pagerank, hubs, authorities for 10 top nodes\n",
        "area_pg = (500 * centralities[\"pagerank\"][table['pagerank']])**2  \n",
        "area_aut = (500 * centralities[\"authorities\"][table['authorities']])**2  \n",
        "area_hubs = (500 * centralities[\"hubs\"][table['hubs']])**2  \n",
        "\n",
        "plt.figure(figsize=(8, 8))\n",
        "plt.scatter(x[table['pagerank']], y[table['pagerank']], s=area_pg, color='blue', alpha=0.5, label = 'pagerank')\n",
        "plt.scatter(x[table['hubs']], y[table['hubs']], s=area_aut, color='red', alpha=0.5, label = 'hubs')\n",
        "plt.scatter(x[table['authorities']], y[table['authorities']], s=area_hubs, color='green', alpha=0.5, label = 'authorities')\n",
        "#plt.xlim(-50, 550)\n",
        "#plt.ylim(-50, 550)\n",
        "# legend with same size\n",
        "lgnd = plt.legend()\n",
        "for handle in lgnd.legendHandles:\n",
        "    handle.set_sizes([100.0])\n",
        "\n",
        "plt.show()"
      ],
      "execution_count": null,
      "outputs": [
        {
          "output_type": "display_data",
          "data": {
            "image/png": "[encoded data removed]",
            "text/plain": [
              "<Figure size 576x576 with 1 Axes>"
            ]
          },
          "metadata": {
            "tags": [],
            "needs_background": "light"
          }
        }
      ]
    },
    {
      "cell_type": "markdown",
      "metadata": {
        "id": "gW6j4k1da1Jm"
      },
      "source": [
        "I do also graphs in which I plot in $x-axis$ pagerank and in $y-axis$ hubs and authorities. \\\\\n",
        "To see a high correlation we should have points near the bisector. "
      ]
    },
    {
      "cell_type": "code",
      "metadata": {
        "colab": {
          "base_uri": "https://localhost:8080/",
          "height": 501
        },
        "id": "D425EFEmWUpR",
        "outputId": "31fa56da-e2dd-41ab-ef6c-55e0b9180996"
      },
      "source": [
        "plt.figure(figsize=(8, 8))\n",
        "plt.scatter(centralities['pagerank'], centralities['hubs'])\n",
        "plt.xlim(0, 0.04)\n",
        "plt.ylim(0, 0.04)\n",
        "plt.plot([0, 0.1], [0,0.1], 'k-', color = 'r')\n",
        "plt.xlabel('pagerank')\n",
        "plt.ylabel('hubs')\n",
        "plt.show()"
      ],
      "execution_count": null,
      "outputs": [
        {
          "output_type": "display_data",
          "data": {
            "image/png": "[encoded data removed]",
            "text/plain": [
              "<Figure size 576x576 with 1 Axes>"
            ]
          },
          "metadata": {
            "tags": [],
            "needs_background": "light"
          }
        }
      ]
    },
    {
      "cell_type": "code",
      "metadata": {
        "colab": {
          "base_uri": "https://localhost:8080/",
          "height": 501
        },
        "id": "VCJ5BiZUaIgX",
        "outputId": "7be27e59-6939-46f0-de4e-2a0951d93a2b"
      },
      "source": [
        "plt.figure(figsize=(8, 8))\n",
        "plt.scatter(centralities['pagerank'], centralities['authorities'])\n",
        "plt.xlim(0, 0.03)\n",
        "plt.ylim(0, 0.03)\n",
        "plt.plot([0, 0.1], [0,0.1], 'k-', color = 'r')\n",
        "plt.xlabel('pagerank')\n",
        "plt.ylabel('authorities')\n",
        "plt.show()"
      ],
      "execution_count": null,
      "outputs": [
        {
          "output_type": "display_data",
          "data": {
            "image/png": "[encoded data removed]",
            "text/plain": [
              "<Figure size 576x576 with 1 Axes>"
            ]
          },
          "metadata": {
            "tags": [],
            "needs_background": "light"
          }
        }
      ]
    },
    {
      "cell_type": "markdown",
      "metadata": {
        "id": "tYH5m-eTp8gW"
      },
      "source": [
        "## Let's work with a hypergraph \n",
        "We consider now a hypergraph dataset made out of Mathoverflow Q&As. Each node is tag given to a post by users of the popular platform and these tags are connected by an hyperedge (also called \"simplex\" by the data provider) if they appear together as descriptors of some posts. Hyperedges have a timestamp which you should ignore."
      ]
    },
    {
      "cell_type": "code",
      "metadata": {
        "id": "kNUCFSC-rYoH"
      },
      "source": [
        "def read_int_lines(dataset):\n",
        "    # function that reads dataset of integers (one for line) and return the list of them\n",
        "\n",
        "    f = open(dataset) \n",
        "    lista = []\n",
        "    for row in f.readlines():\n",
        "      lista.append(int(row))\n",
        "    f.close() \n",
        "    #lista = np.array(lista) # molto più veloce senza np.array\n",
        "    return lista"
      ],
      "execution_count": null,
      "outputs": []
    },
    {
      "cell_type": "code",
      "metadata": {
        "id": "LNnrAe9zs8Sh"
      },
      "source": [
        "def read_tags_data_node_labels(dataset):\n",
        "    # function that reads dataset of labels (in this case take only string ignoring numbers)\n",
        "    \n",
        "    labels = []\n",
        "    f = open(dataset)\n",
        "    for row in f.readlines():\n",
        "            data = (row.strip()).split()\n",
        "            labels.append(data[1])\n",
        "    f.close() \n",
        "    return labels"
      ],
      "execution_count": null,
      "outputs": []
    },
    {
      "cell_type": "markdown",
      "metadata": {
        "id": "gkqivc4i1XaR"
      },
      "source": [
        "Load labels, simpleces and number of vertices in each simpleces"
      ]
    },
    {
      "cell_type": "code",
      "metadata": {
        "id": "eeNdS7sOpr0v"
      },
      "source": [
        "labels = read_tags_data_node_labels('tags-math-sx-node-labels.txt')\n",
        "simpleces = read_int_lines('tags-math-sx-simplices.txt')\n",
        "nverts = read_int_lines('tags-math-sx-nverts.txt')"
      ],
      "execution_count": null,
      "outputs": []
    },
    {
      "cell_type": "markdown",
      "metadata": {
        "id": "E33HEiN4ZrNe"
      },
      "source": [
        "Construct list with all simpleces"
      ]
    },
    {
      "cell_type": "code",
      "metadata": {
        "id": "T8Hrc2ruL01C"
      },
      "source": [
        "curr_ind = 0   # current index\n",
        "tot_edge = []  # list in which each element is list of nodes in a simplex \n",
        "\n",
        "for nvert in nverts: \n",
        "        edge = simpleces[curr_ind:(curr_ind + nvert)] \n",
        "        curr_ind += nvert\n",
        "        tot_edge.append(edge)"
      ],
      "execution_count": null,
      "outputs": []
    },
    {
      "cell_type": "markdown",
      "metadata": {
        "id": "ixm-EjUwp8ga"
      },
      "source": [
        "### Q3. \n",
        "Compute the eigenvector centrality and the Pagerank ($\\alpha = 0.85$, uniform probability to random jump) centrality of the clique-expanded graph of this hypergraph. Print a table with the names of the top TEN nodes for both the two centralities and do a scatter plot comparing them (recall you should normalize the centrality vectors so that they sum up to one)"
      ]
    },
    {
      "cell_type": "code",
      "metadata": {
        "id": "V3Nl4dxBgeox"
      },
      "source": [
        "def adjacency_mat_from_simpleces(tot_edge,n):\n",
        "  # Input: list with list of edges in simplex, dimension of A\n",
        "  # Output: adjacency matrix\n",
        "\n",
        "  A = np.zeros([n+1,n+1])     # index in tot_edge go from 1 to n\n",
        "  for hedge in tot_edge:      # take a hyperedge\n",
        "    k = hedge.copy()        # copy the hyperedge\n",
        "    for node in hedge:         # take a node\n",
        "      k.remove(node)          \n",
        "      for node_2 in k:\n",
        "        A[node,node_2]+=1\n",
        "        \n",
        "  return sp.sparse.csr_matrix(A[1:,1:])"
      ],
      "execution_count": null,
      "outputs": []
    },
    {
      "cell_type": "code",
      "metadata": {
        "id": "5uyjfrZDgQPj"
      },
      "source": [
        "n = len(labels) # matrix dimension\n",
        "A = adjacency_mat_from_simpleces(tot_edge,n)"
      ],
      "execution_count": null,
      "outputs": []
    },
    {
      "cell_type": "markdown",
      "metadata": {
        "id": "PjSm4jbFaC2d"
      },
      "source": [
        "Take the largest strongly connected component"
      ]
    },
    {
      "cell_type": "code",
      "metadata": {
        "id": "3eccdKKxZtyy"
      },
      "source": [
        "A,labels = largest_strongly_connected_component(A,labels) \n",
        "n = len(labels) # matrix dimension"
      ],
      "execution_count": null,
      "outputs": []
    },
    {
      "cell_type": "markdown",
      "metadata": {
        "id": "PG6Im6f-6dZV"
      },
      "source": [
        "### Table"
      ]
    },
    {
      "cell_type": "code",
      "metadata": {
        "id": "QIm91XT27JfQ"
      },
      "source": [
        "centralities = dict();\n",
        "random_jump_vector=(1/n)*np.ones(n)                      # needeed for pagerank\n",
        "for name in names:\n",
        "    centralities[name] = compute_centrality(A,name=name)"
      ],
      "execution_count": null,
      "outputs": []
    },
    {
      "cell_type": "code",
      "metadata": {
        "id": "yRXEdOFy6gbk",
        "colab": {
          "base_uri": "https://localhost:8080/",
          "height": 363
        },
        "outputId": "7af0233e-8417-445a-932c-5994bafee665"
      },
      "source": [
        "# Create dict with name centralities and nodes (if you want to see node names is sufficient to eliminate comment)\n",
        "table = dict()\n",
        "for name in names:\n",
        "  top_nodes_name, top_nodes_index = top_nodes_table(centralities[name],labels)\n",
        "  table[name] = top_nodes_index\n",
        "  #table[name] = top_nodes_name\n",
        "\n",
        "df = pd.DataFrame(table)\n",
        "  \n",
        "# displaying the DataFrame\n",
        "pd.DataFrame(df)"
      ],
      "execution_count": null,
      "outputs": [
        {
          "output_type": "execute_result",
          "data": {
            "text/html": [
              "<div>\n",
              "<style scoped>\n",
              "    .dataframe tbody tr th:only-of-type {\n",
              "        vertical-align: middle;\n",
              "    }\n",
              "\n",
              "    .dataframe tbody tr th {\n",
              "        vertical-align: top;\n",
              "    }\n",
              "\n",
              "    .dataframe thead th {\n",
              "        text-align: right;\n",
              "    }\n",
              "</style>\n",
              "<table border=\"1\" class=\"dataframe\">\n",
              "  <thead>\n",
              "    <tr style=\"text-align: right;\">\n",
              "      <th></th>\n",
              "      <th>d_in</th>\n",
              "      <th>d_out</th>\n",
              "      <th>pagerank</th>\n",
              "      <th>hubs</th>\n",
              "      <th>authorities</th>\n",
              "      <th>eig_in</th>\n",
              "      <th>eig_out</th>\n",
              "    </tr>\n",
              "  </thead>\n",
              "  <tbody>\n",
              "    <tr>\n",
              "      <th>0</th>\n",
              "      <td>55</td>\n",
              "      <td>4</td>\n",
              "      <td>636</td>\n",
              "      <td>4</td>\n",
              "      <td>55</td>\n",
              "      <td>4</td>\n",
              "      <td>455</td>\n",
              "    </tr>\n",
              "    <tr>\n",
              "      <th>1</th>\n",
              "      <td>5</td>\n",
              "      <td>52</td>\n",
              "      <td>968</td>\n",
              "      <td>52</td>\n",
              "      <td>5</td>\n",
              "      <td>52</td>\n",
              "      <td>91</td>\n",
              "    </tr>\n",
              "    <tr>\n",
              "      <th>2</th>\n",
              "      <td>64</td>\n",
              "      <td>15</td>\n",
              "      <td>1015</td>\n",
              "      <td>55</td>\n",
              "      <td>71</td>\n",
              "      <td>15</td>\n",
              "      <td>11</td>\n",
              "    </tr>\n",
              "    <tr>\n",
              "      <th>3</th>\n",
              "      <td>24</td>\n",
              "      <td>38</td>\n",
              "      <td>615</td>\n",
              "      <td>15</td>\n",
              "      <td>52</td>\n",
              "      <td>132</td>\n",
              "      <td>389</td>\n",
              "    </tr>\n",
              "    <tr>\n",
              "      <th>4</th>\n",
              "      <td>136</td>\n",
              "      <td>132</td>\n",
              "      <td>1003</td>\n",
              "      <td>71</td>\n",
              "      <td>64</td>\n",
              "      <td>55</td>\n",
              "      <td>136</td>\n",
              "    </tr>\n",
              "    <tr>\n",
              "      <th>5</th>\n",
              "      <td>91</td>\n",
              "      <td>55</td>\n",
              "      <td>380</td>\n",
              "      <td>132</td>\n",
              "      <td>136</td>\n",
              "      <td>71</td>\n",
              "      <td>333</td>\n",
              "    </tr>\n",
              "    <tr>\n",
              "      <th>6</th>\n",
              "      <td>455</td>\n",
              "      <td>71</td>\n",
              "      <td>552</td>\n",
              "      <td>64</td>\n",
              "      <td>258</td>\n",
              "      <td>38</td>\n",
              "      <td>69</td>\n",
              "    </tr>\n",
              "    <tr>\n",
              "      <th>7</th>\n",
              "      <td>71</td>\n",
              "      <td>218</td>\n",
              "      <td>963</td>\n",
              "      <td>95</td>\n",
              "      <td>333</td>\n",
              "      <td>128</td>\n",
              "      <td>507</td>\n",
              "    </tr>\n",
              "    <tr>\n",
              "      <th>8</th>\n",
              "      <td>69</td>\n",
              "      <td>16</td>\n",
              "      <td>993</td>\n",
              "      <td>128</td>\n",
              "      <td>225</td>\n",
              "      <td>64</td>\n",
              "      <td>265</td>\n",
              "    </tr>\n",
              "    <tr>\n",
              "      <th>9</th>\n",
              "      <td>333</td>\n",
              "      <td>128</td>\n",
              "      <td>805</td>\n",
              "      <td>218</td>\n",
              "      <td>91</td>\n",
              "      <td>95</td>\n",
              "      <td>288</td>\n",
              "    </tr>\n",
              "  </tbody>\n",
              "</table>\n",
              "</div>"
            ],
            "text/plain": [
              "   d_in  d_out  pagerank  hubs  authorities  eig_in  eig_out\n",
              "0    55      4       636     4           55       4      455\n",
              "1     5     52       968    52            5      52       91\n",
              "2    64     15      1015    55           71      15       11\n",
              "3    24     38       615    15           52     132      389\n",
              "4   136    132      1003    71           64      55      136\n",
              "5    91     55       380   132          136      71      333\n",
              "6   455     71       552    64          258      38       69\n",
              "7    71    218       963    95          333     128      507\n",
              "8    69     16       993   128          225      64      265\n",
              "9   333    128       805   218           91      95      288"
            ]
          },
          "metadata": {
            "tags": []
          },
          "execution_count": 26
        }
      ]
    },
    {
      "cell_type": "markdown",
      "metadata": {
        "id": "zYMo82PA6808"
      },
      "source": [
        "### Scatter"
      ]
    },
    {
      "cell_type": "code",
      "metadata": {
        "id": "N8mmUKzP6_J7",
        "colab": {
          "base_uri": "https://localhost:8080/",
          "height": 483
        },
        "outputId": "1d1c0a7f-414b-43a7-8655-0bf2cae62f53"
      },
      "source": [
        "# Compute 500 random points in [0,500]x[0,500]\n",
        "N = n\n",
        "x = 500*np.random.rand(N)\n",
        "y = 500*np.random.rand(N)\n",
        "\n",
        "# Rescale value of pagerank, hubs, authorities for 10 top nodes\n",
        "area_pg = (500 * centralities[\"pagerank\"][table['pagerank']])**2  \n",
        "area_aut = (500 * centralities[\"authorities\"][table['authorities']])**2  \n",
        "area_hubs = (500 * centralities[\"hubs\"][table['hubs']])**2  \n",
        "\n",
        "plt.figure(figsize=(8, 8))\n",
        "plt.scatter(x[table['pagerank']], y[table['pagerank']], s=area_pg, color='blue', alpha=0.5, label = 'pagerank')\n",
        "plt.scatter(x[table['hubs']], y[table['hubs']], s=area_aut, color='red', alpha=0.5, label = 'hubs')\n",
        "plt.scatter(x[table['authorities']], y[table['authorities']], s=area_hubs, color='green', alpha=0.5, label = 'authorities')\n",
        "#plt.xlim(-50, 550)\n",
        "#plt.ylim(-50, 550)\n",
        "# legend with same size\n",
        "lgnd = plt.legend()\n",
        "for handle in lgnd.legendHandles:\n",
        "    handle.set_sizes([100.0])\n",
        "\n",
        "plt.show()"
      ],
      "execution_count": null,
      "outputs": [
        {
          "output_type": "display_data",
          "data": {
            "image/png": "[encoded data removed]",
            "text/plain": [
              "<Figure size 576x576 with 1 Axes>"
            ]
          },
          "metadata": {
            "tags": [],
            "needs_background": "light"
          }
        }
      ]
    },
    {
      "cell_type": "code",
      "metadata": {
        "colab": {
          "base_uri": "https://localhost:8080/",
          "height": 501
        },
        "id": "RUU56TxpfvUO",
        "outputId": "4025a4ae-1ef3-442f-8d76-d0f32e942833"
      },
      "source": [
        "plt.figure(figsize=(8, 8))\n",
        "plt.scatter(centralities['pagerank'], centralities['hubs'])\n",
        "plt.xlim(0, 0.04)\n",
        "plt.ylim(0, 0.04)\n",
        "plt.plot([0, 0.1], [0,0.1], 'k-', color = 'r')\n",
        "plt.xlabel('pagerank')\n",
        "plt.ylabel('hubs')\n",
        "plt.show()"
      ],
      "execution_count": null,
      "outputs": [
        {
          "output_type": "display_data",
          "data": {
            "image/png": "[encoded data removed]",
            "text/plain": [
              "<Figure size 576x576 with 1 Axes>"
            ]
          },
          "metadata": {
            "tags": [],
            "needs_background": "light"
          }
        }
      ]
    },
    {
      "cell_type": "code",
      "metadata": {
        "colab": {
          "base_uri": "https://localhost:8080/",
          "height": 501
        },
        "id": "4lx4XbO4fvJp",
        "outputId": "a1eea27c-4325-44a8-eb70-7ddb45ad5ae7"
      },
      "source": [
        "plt.figure(figsize=(8, 8))\n",
        "plt.scatter(centralities['pagerank'], centralities['authorities'])\n",
        "plt.xlim(0, 0.03)\n",
        "plt.ylim(0, 0.03)\n",
        "plt.plot([0, 0.1], [0,0.1], 'k-', color = 'r')\n",
        "plt.xlabel('pagerank')\n",
        "plt.ylabel('authorities')\n",
        "plt.show()"
      ],
      "execution_count": null,
      "outputs": [
        {
          "output_type": "display_data",
          "data": {
            "image/png": "[encoded data removed]",
            "text/plain": [
              "<Figure size 576x576 with 1 Axes>"
            ]
          },
          "metadata": {
            "tags": [],
            "needs_background": "light"
          }
        }
      ]
    },
    {
      "cell_type": "markdown",
      "metadata": {
        "id": "gWwaJJLkp8gb"
      },
      "source": [
        "# Semi supervised learning "
      ]
    },
    {
      "cell_type": "markdown",
      "metadata": {
        "id": "MmXYRJ6ip8gb"
      },
      "source": [
        "Now we use Pagerank to predict the class (or label) of a partially labeled network dataset. This is a co-citation dataset made by journal papers which are connected if they cite each other. We have two datasets:\n",
        "1. cora-cit-graph: citation graph where each edge is a citation from paper x to paper y \n",
        "2. cora-cit-hypergraph: citation hypergraph where each hyperedge contains the list of papers cited by some paper\n",
        "Both datasets are saved in python's `pickle` format which should be easy to read also from Matlab and Julia"
      ]
    },
    {
      "cell_type": "markdown",
      "metadata": {
        "id": "MLZwk9byp8gd"
      },
      "source": [
        "## Label spreading cora-cit-graph\n",
        "Here you should implement label spreading, a.k.a. PageRank on these datasets. \n",
        "1. For each of the labels, randomly select 5% of the nodes with that label to be your class-balanced training data. \n",
        "2. On the graph dataste, implement label spreading for 3 values of $\\alpha = 0.25$, $0.5$, and $0.75$ using only labels as input embedding. \n",
        "3. Compute the accuracy, precision and recall on the test set (the unlabeled nodes). \n",
        "4. Repeat the same experiment with 10% of the nodes per label. \n",
        "5. Plot the accuracy, precision and recall as a function of alpha for the two experiments. \n",
        "6. Repeat these experiments by using label-spreading on the clique expanded graph of the hypegraph dataset. Pay attention, the indices of the nodes in the datasets are different, so make sure you reload the feature data for the hypergraph. \n"
      ]
    },
    {
      "cell_type": "code",
      "metadata": {
        "id": "Hjk3W-GlVT6_"
      },
      "source": [
        " graph = pd.read_pickle('graph.p')          # dictionary with key=node and values=nodes connected\n",
        " features = pd.read_pickle('features.p')    # matrix\n",
        " labels = pd.read_pickle('labels.p')        # np.array (2708,7)"
      ],
      "execution_count": null,
      "outputs": []
    },
    {
      "cell_type": "markdown",
      "metadata": {
        "id": "klrtNbDuVlpL"
      },
      "source": [
        "### Function preamble"
      ]
    },
    {
      "cell_type": "code",
      "metadata": {
        "id": "S_pVocz7I2gE"
      },
      "source": [
        "def adjacency_from_graph(graph):\n",
        "  # Compute adjacency matrix from dict graph \n",
        "  \n",
        "  n = len(graph)\n",
        "  A = np.zeros([n,n])           \n",
        "  for i in range(n):\n",
        "    A[graph[i],i]=1\n",
        "    A[i,graph[i]]=1\n",
        "  return sp.sparse.csr_matrix(A)"
      ],
      "execution_count": null,
      "outputs": []
    },
    {
      "cell_type": "code",
      "metadata": {
        "id": "jm-Sh5aKunTB"
      },
      "source": [
        "def tensor_pagerank(A, Y, alfa):\n",
        "  # Compute pagerank\n",
        "\n",
        "  n = np.shape(A)[0]                                    # A dimension\n",
        "  d_out = A@(np.ones(n))                                # D = A 1\n",
        "  invD = sp.sparse.diags(1/d_out)                       # D^-1\n",
        "  M = sp.sparse.diags(np.ones(n))-alfa*A.T@invD         # M = [1 - (alfa * A^t * D^-1)]   \n",
        "  X = sp.sparse.linalg.spsolve(sp.sparse.csc_matrix(M),(1-alfa)*Y)\n",
        "  return X"
      ],
      "execution_count": null,
      "outputs": []
    },
    {
      "cell_type": "code",
      "metadata": {
        "id": "sWiY9yIGhyKK"
      },
      "source": [
        "def Y_matrix(vec_labels, labels, perc):\n",
        "  # Input:  vector with labels, matrix of labels, percentage of node in training data\n",
        "  # Output: training_data, Y matrix\n",
        "\n",
        "  training_data = np.array([],dtype=int)                          # initialize training data\n",
        "  dim_labels = np.shape(labels)                                   # shape of matrix labels\n",
        "  Y = np.zeros(dim_labels)                                        # initialize matrix Y\n",
        "  \n",
        "  for i in range(dim_labels[1]):                               \n",
        "    index = np.where(vec_labels==i)[0]                            # find all nodes with the same labels\n",
        "    position = np.random.choice(index, perc[i], replace=False)    # take random elements\n",
        "    training_data = np.concatenate((training_data,position))      # append position of training data\n",
        "\n",
        "  Y[training_data,:] = labels[training_data,:]                    # define Y \n",
        "\n",
        "  return training_data, Y/perc"
      ],
      "execution_count": null,
      "outputs": []
    },
    {
      "cell_type": "code",
      "metadata": {
        "id": "CbJueHEwcBB7"
      },
      "source": [
        "def validation_metrics(confusion_matrix):\n",
        "  # Input: confusion matrix\n",
        "  # Output: compute accuracy, precision, recall\n",
        "  \n",
        "  accuracy=sum(np.diag(confusion_matrix))/np.sum(confusion_matrix)\n",
        "\n",
        "  precision = []\n",
        "  for i in range(len(confusion_matrix)):\n",
        "    precision.append(confusion_matrix[i,i]/(sum(confusion_matrix[:,i])))\n",
        "\n",
        "  recall = []\n",
        "  for i in range(len(confusion_matrix)):\n",
        "    recall.append(confusion_matrix[i,i]/(sum(confusion_matrix[i,:])))\n",
        "  \n",
        "  return accuracy, np.mean(precision), np.mean(recall)"
      ],
      "execution_count": null,
      "outputs": []
    },
    {
      "cell_type": "markdown",
      "metadata": {
        "id": "Y-sqqIg_bxyx"
      },
      "source": [
        "I modify the function that returns the largest strongly connected component in order to give back also the new set of labels."
      ]
    },
    {
      "cell_type": "code",
      "metadata": {
        "id": "GVxIc2UBraNE"
      },
      "source": [
        "def largest_strongly_connected_component_labels(Adj, tot_link):\n",
        "  # Input: adjacency matrix, list of node names\n",
        "  # Output: adj matrix of the largest strongly connected component, updated list of node names\n",
        "\n",
        "  # adj matrix of the largest strongly connected component\n",
        "  G = nx.from_numpy_matrix(Adj.toarray(),create_using=nx.DiGraph)  # graph \n",
        "  index = max(nx.strongly_connected_components(G), key=len)        # set of nodes in largest scc    \n",
        "  index= list(index)                                               # tranform in list\n",
        "  A = Adj[index,:][:,index]                                        # extract adj matrix of largest scc    \n",
        "\n",
        "  # extract list of node names                       \n",
        "  link = tot_link[index,:]                             \n",
        "  \n",
        "  return A, link"
      ],
      "execution_count": null,
      "outputs": []
    },
    {
      "cell_type": "markdown",
      "metadata": {
        "id": "9mrWw3NqVxvA"
      },
      "source": [
        "### Labels 5%"
      ]
    },
    {
      "cell_type": "markdown",
      "metadata": {
        "id": "D15r91_5MCUw"
      },
      "source": [
        "Construct adjacency matrix, for each of the labels randomly select 5% of  the nodes that are needed to construct Y matrix. \\\\\n",
        "Then implement label spreading for 3 values of $\\alpha$."
      ]
    },
    {
      "cell_type": "code",
      "metadata": {
        "id": "JzppXhfrKW6V"
      },
      "source": [
        "A = adjacency_from_graph(graph)  # sparse adjacency matrix"
      ],
      "execution_count": null,
      "outputs": []
    },
    {
      "cell_type": "markdown",
      "metadata": {
        "id": "wdmTQi18jsZD"
      },
      "source": [
        "Take the largest strongly connected component"
      ]
    },
    {
      "cell_type": "code",
      "metadata": {
        "id": "nCoOx_YDrrC_"
      },
      "source": [
        "A, labels = largest_strongly_connected_component_labels(A, labels)"
      ],
      "execution_count": null,
      "outputs": []
    },
    {
      "cell_type": "code",
      "metadata": {
        "id": "b8gJMlePWSA3"
      },
      "source": [
        "tot_labels = np.sum(labels, axis=0)   # total number of data for each class\n",
        "five_perc = tot_labels//20            # number of training data for each class\n",
        "vec_labels = np.argmax(labels,axis=1) # vector of labels (before we have matrix, now only index)"
      ],
      "execution_count": null,
      "outputs": []
    },
    {
      "cell_type": "code",
      "metadata": {
        "id": "SZeWa1owxsqU"
      },
      "source": [
        "index_training_data, Y = Y_matrix(vec_labels, labels, five_perc)  # position of training data and matrix Y "
      ],
      "execution_count": null,
      "outputs": []
    },
    {
      "cell_type": "markdown",
      "metadata": {
        "id": "kG6hh3A8MxiS"
      },
      "source": [
        "Compute confusion matrix in the case in which $\\alpha = 0.75$ and calculate accuracy, precision and recall."
      ]
    },
    {
      "cell_type": "code",
      "metadata": {
        "id": "NNmCjrP1VzMV"
      },
      "source": [
        "alfa = 0.75\n",
        "X = tensor_pagerank(A, Y, alfa)\n",
        "maxX = np.argmax(X, axis=1)"
      ],
      "execution_count": null,
      "outputs": []
    },
    {
      "cell_type": "code",
      "metadata": {
        "colab": {
          "base_uri": "https://localhost:8080/",
          "height": 324
        },
        "id": "gbWS__nzXKdn",
        "outputId": "30d8c768-c03b-4037-f6a1-99a729148843"
      },
      "source": [
        "# Evaluate confusion matrix\n",
        "cm = metrics.confusion_matrix(vec_labels, maxX)\n",
        "cm = cm-np.diag(five_perc)                       # remove data of which I know labels\n",
        "\n",
        "# Compute the accuracy of the class assignment\n",
        "acc5_1,prec5_1,rec5_1 = validation_metrics(cm)\n",
        "print('Accuracy:', acc5_1, '\\nRecall:', rec5_1, '\\nPrecision:', prec5_1)\n",
        "\n",
        "# Show the confusion matrix\n",
        "pd.DataFrame(cm)"
      ],
      "execution_count": null,
      "outputs": [
        {
          "output_type": "stream",
          "text": [
            "Accuracy: 0.7148900169204738 \n",
            "Recall: 0.7391674105822552 \n",
            "Precision: 0.686392451506396\n"
          ],
          "name": "stdout"
        },
        {
          "output_type": "execute_result",
          "data": {
            "text/html": [
              "<div>\n",
              "<style scoped>\n",
              "    .dataframe tbody tr th:only-of-type {\n",
              "        vertical-align: middle;\n",
              "    }\n",
              "\n",
              "    .dataframe tbody tr th {\n",
              "        vertical-align: top;\n",
              "    }\n",
              "\n",
              "    .dataframe thead th {\n",
              "        text-align: right;\n",
              "    }\n",
              "</style>\n",
              "<table border=\"1\" class=\"dataframe\">\n",
              "  <thead>\n",
              "    <tr style=\"text-align: right;\">\n",
              "      <th></th>\n",
              "      <th>0</th>\n",
              "      <th>1</th>\n",
              "      <th>2</th>\n",
              "      <th>3</th>\n",
              "      <th>4</th>\n",
              "      <th>5</th>\n",
              "      <th>6</th>\n",
              "    </tr>\n",
              "  </thead>\n",
              "  <tbody>\n",
              "    <tr>\n",
              "      <th>0</th>\n",
              "      <td>188</td>\n",
              "      <td>29</td>\n",
              "      <td>4</td>\n",
              "      <td>27</td>\n",
              "      <td>21</td>\n",
              "      <td>19</td>\n",
              "      <td>39</td>\n",
              "    </tr>\n",
              "    <tr>\n",
              "      <th>1</th>\n",
              "      <td>3</td>\n",
              "      <td>171</td>\n",
              "      <td>12</td>\n",
              "      <td>5</td>\n",
              "      <td>5</td>\n",
              "      <td>7</td>\n",
              "      <td>1</td>\n",
              "    </tr>\n",
              "    <tr>\n",
              "      <th>2</th>\n",
              "      <td>0</td>\n",
              "      <td>21</td>\n",
              "      <td>346</td>\n",
              "      <td>11</td>\n",
              "      <td>1</td>\n",
              "      <td>2</td>\n",
              "      <td>5</td>\n",
              "    </tr>\n",
              "    <tr>\n",
              "      <th>3</th>\n",
              "      <td>43</td>\n",
              "      <td>73</td>\n",
              "      <td>28</td>\n",
              "      <td>439</td>\n",
              "      <td>36</td>\n",
              "      <td>26</td>\n",
              "      <td>45</td>\n",
              "    </tr>\n",
              "    <tr>\n",
              "      <th>4</th>\n",
              "      <td>29</td>\n",
              "      <td>7</td>\n",
              "      <td>1</td>\n",
              "      <td>46</td>\n",
              "      <td>255</td>\n",
              "      <td>21</td>\n",
              "      <td>2</td>\n",
              "    </tr>\n",
              "    <tr>\n",
              "      <th>5</th>\n",
              "      <td>21</td>\n",
              "      <td>15</td>\n",
              "      <td>6</td>\n",
              "      <td>1</td>\n",
              "      <td>13</td>\n",
              "      <td>187</td>\n",
              "      <td>28</td>\n",
              "    </tr>\n",
              "    <tr>\n",
              "      <th>6</th>\n",
              "      <td>11</td>\n",
              "      <td>1</td>\n",
              "      <td>0</td>\n",
              "      <td>0</td>\n",
              "      <td>6</td>\n",
              "      <td>3</td>\n",
              "      <td>104</td>\n",
              "    </tr>\n",
              "  </tbody>\n",
              "</table>\n",
              "</div>"
            ],
            "text/plain": [
              "     0    1    2    3    4    5    6\n",
              "0  188   29    4   27   21   19   39\n",
              "1    3  171   12    5    5    7    1\n",
              "2    0   21  346   11    1    2    5\n",
              "3   43   73   28  439   36   26   45\n",
              "4   29    7    1   46  255   21    2\n",
              "5   21   15    6    1   13  187   28\n",
              "6   11    1    0    0    6    3  104"
            ]
          },
          "metadata": {
            "tags": []
          },
          "execution_count": 41
        }
      ]
    },
    {
      "cell_type": "markdown",
      "metadata": {
        "id": "Il39-rW5NZuc"
      },
      "source": [
        "Compute confusion matrix in the case in which $\\alpha = 0.5$ and calculate accuracy, precision and recall."
      ]
    },
    {
      "cell_type": "code",
      "metadata": {
        "id": "68B6OTGnIt5v"
      },
      "source": [
        "alfa = 0.5\n",
        "X = tensor_pagerank(A, Y, alfa)\n",
        "maxX = np.argmax(X, axis=1)"
      ],
      "execution_count": null,
      "outputs": []
    },
    {
      "cell_type": "code",
      "metadata": {
        "colab": {
          "base_uri": "https://localhost:8080/",
          "height": 324
        },
        "id": "-LbfDdSwotqi",
        "outputId": "fe8edda6-5125-4452-9032-67764d9de6b7"
      },
      "source": [
        "# Evaluate confusion matrix\n",
        "cm = metrics.confusion_matrix(vec_labels, maxX)\n",
        "cm = cm-np.diag(five_perc)                       # remove data of which I know labels\n",
        "\n",
        "# Compute the accuracy of the class assignment\n",
        "acc5_2,prec5_2,rec5_2 = validation_metrics(cm)\n",
        "print('Accuracy:', acc5_2, '\\nRecall:', rec5_2, '\\nPrecision:', prec5_2)\n",
        "\n",
        "# Show the confusion matrix\n",
        "pd.DataFrame(cm)"
      ],
      "execution_count": null,
      "outputs": [
        {
          "output_type": "stream",
          "text": [
            "Accuracy: 0.7021996615905245 \n",
            "Recall: 0.7214938866665859 \n",
            "Precision: 0.672778186223453\n"
          ],
          "name": "stdout"
        },
        {
          "output_type": "execute_result",
          "data": {
            "text/html": [
              "<div>\n",
              "<style scoped>\n",
              "    .dataframe tbody tr th:only-of-type {\n",
              "        vertical-align: middle;\n",
              "    }\n",
              "\n",
              "    .dataframe tbody tr th {\n",
              "        vertical-align: top;\n",
              "    }\n",
              "\n",
              "    .dataframe thead th {\n",
              "        text-align: right;\n",
              "    }\n",
              "</style>\n",
              "<table border=\"1\" class=\"dataframe\">\n",
              "  <thead>\n",
              "    <tr style=\"text-align: right;\">\n",
              "      <th></th>\n",
              "      <th>0</th>\n",
              "      <th>1</th>\n",
              "      <th>2</th>\n",
              "      <th>3</th>\n",
              "      <th>4</th>\n",
              "      <th>5</th>\n",
              "      <th>6</th>\n",
              "    </tr>\n",
              "  </thead>\n",
              "  <tbody>\n",
              "    <tr>\n",
              "      <th>0</th>\n",
              "      <td>186</td>\n",
              "      <td>29</td>\n",
              "      <td>4</td>\n",
              "      <td>30</td>\n",
              "      <td>22</td>\n",
              "      <td>20</td>\n",
              "      <td>36</td>\n",
              "    </tr>\n",
              "    <tr>\n",
              "      <th>1</th>\n",
              "      <td>3</td>\n",
              "      <td>165</td>\n",
              "      <td>15</td>\n",
              "      <td>7</td>\n",
              "      <td>4</td>\n",
              "      <td>9</td>\n",
              "      <td>1</td>\n",
              "    </tr>\n",
              "    <tr>\n",
              "      <th>2</th>\n",
              "      <td>0</td>\n",
              "      <td>25</td>\n",
              "      <td>345</td>\n",
              "      <td>8</td>\n",
              "      <td>1</td>\n",
              "      <td>2</td>\n",
              "      <td>5</td>\n",
              "    </tr>\n",
              "    <tr>\n",
              "      <th>3</th>\n",
              "      <td>48</td>\n",
              "      <td>82</td>\n",
              "      <td>23</td>\n",
              "      <td>433</td>\n",
              "      <td>34</td>\n",
              "      <td>31</td>\n",
              "      <td>39</td>\n",
              "    </tr>\n",
              "    <tr>\n",
              "      <th>4</th>\n",
              "      <td>30</td>\n",
              "      <td>9</td>\n",
              "      <td>1</td>\n",
              "      <td>45</td>\n",
              "      <td>255</td>\n",
              "      <td>20</td>\n",
              "      <td>1</td>\n",
              "    </tr>\n",
              "    <tr>\n",
              "      <th>5</th>\n",
              "      <td>26</td>\n",
              "      <td>16</td>\n",
              "      <td>6</td>\n",
              "      <td>1</td>\n",
              "      <td>20</td>\n",
              "      <td>177</td>\n",
              "      <td>25</td>\n",
              "    </tr>\n",
              "    <tr>\n",
              "      <th>6</th>\n",
              "      <td>14</td>\n",
              "      <td>1</td>\n",
              "      <td>0</td>\n",
              "      <td>0</td>\n",
              "      <td>7</td>\n",
              "      <td>4</td>\n",
              "      <td>99</td>\n",
              "    </tr>\n",
              "  </tbody>\n",
              "</table>\n",
              "</div>"
            ],
            "text/plain": [
              "     0    1    2    3    4    5   6\n",
              "0  186   29    4   30   22   20  36\n",
              "1    3  165   15    7    4    9   1\n",
              "2    0   25  345    8    1    2   5\n",
              "3   48   82   23  433   34   31  39\n",
              "4   30    9    1   45  255   20   1\n",
              "5   26   16    6    1   20  177  25\n",
              "6   14    1    0    0    7    4  99"
            ]
          },
          "metadata": {
            "tags": []
          },
          "execution_count": 43
        }
      ]
    },
    {
      "cell_type": "markdown",
      "metadata": {
        "id": "OHB6YKERNbfe"
      },
      "source": [
        "Compute confusion matrix in the case in which $\\alpha = 0.25$ and calculate accuracy, precision and recall."
      ]
    },
    {
      "cell_type": "code",
      "metadata": {
        "id": "807QOJpzI8yp"
      },
      "source": [
        "alfa = 0.25\n",
        "X = tensor_pagerank(A, Y, alfa)\n",
        "maxX = np.argmax(X, axis=1)"
      ],
      "execution_count": null,
      "outputs": []
    },
    {
      "cell_type": "code",
      "metadata": {
        "colab": {
          "base_uri": "https://localhost:8080/",
          "height": 324
        },
        "id": "WmrWZEloI_D_",
        "outputId": "375de126-8a76-4888-de0d-c09aa6f004a2"
      },
      "source": [
        "# Evaluate confusion matrix\n",
        "cm = metrics.confusion_matrix(vec_labels, maxX)\n",
        "cm = cm-np.diag(five_perc)                       # remove data of which I know labels\n",
        "\n",
        "# Compute the accuracy of the class assignment\n",
        "acc5_3,prec5_3,rec5_3 = validation_metrics(cm)\n",
        "print('Accuracy:', acc5_3, '\\nRecall:', rec5_3, '\\nPrecision:', prec5_3)\n",
        "\n",
        "# Show the confusion matrix\n",
        "pd.DataFrame(cm)"
      ],
      "execution_count": null,
      "outputs": [
        {
          "output_type": "stream",
          "text": [
            "Accuracy: 0.6950084602368867 \n",
            "Recall: 0.7148326223573147 \n",
            "Precision: 0.6669637802057503\n"
          ],
          "name": "stdout"
        },
        {
          "output_type": "execute_result",
          "data": {
            "text/html": [
              "<div>\n",
              "<style scoped>\n",
              "    .dataframe tbody tr th:only-of-type {\n",
              "        vertical-align: middle;\n",
              "    }\n",
              "\n",
              "    .dataframe tbody tr th {\n",
              "        vertical-align: top;\n",
              "    }\n",
              "\n",
              "    .dataframe thead th {\n",
              "        text-align: right;\n",
              "    }\n",
              "</style>\n",
              "<table border=\"1\" class=\"dataframe\">\n",
              "  <thead>\n",
              "    <tr style=\"text-align: right;\">\n",
              "      <th></th>\n",
              "      <th>0</th>\n",
              "      <th>1</th>\n",
              "      <th>2</th>\n",
              "      <th>3</th>\n",
              "      <th>4</th>\n",
              "      <th>5</th>\n",
              "      <th>6</th>\n",
              "    </tr>\n",
              "  </thead>\n",
              "  <tbody>\n",
              "    <tr>\n",
              "      <th>0</th>\n",
              "      <td>184</td>\n",
              "      <td>28</td>\n",
              "      <td>6</td>\n",
              "      <td>31</td>\n",
              "      <td>24</td>\n",
              "      <td>19</td>\n",
              "      <td>35</td>\n",
              "    </tr>\n",
              "    <tr>\n",
              "      <th>1</th>\n",
              "      <td>4</td>\n",
              "      <td>163</td>\n",
              "      <td>15</td>\n",
              "      <td>7</td>\n",
              "      <td>2</td>\n",
              "      <td>12</td>\n",
              "      <td>1</td>\n",
              "    </tr>\n",
              "    <tr>\n",
              "      <th>2</th>\n",
              "      <td>0</td>\n",
              "      <td>28</td>\n",
              "      <td>342</td>\n",
              "      <td>8</td>\n",
              "      <td>1</td>\n",
              "      <td>1</td>\n",
              "      <td>6</td>\n",
              "    </tr>\n",
              "    <tr>\n",
              "      <th>3</th>\n",
              "      <td>47</td>\n",
              "      <td>89</td>\n",
              "      <td>21</td>\n",
              "      <td>428</td>\n",
              "      <td>35</td>\n",
              "      <td>33</td>\n",
              "      <td>37</td>\n",
              "    </tr>\n",
              "    <tr>\n",
              "      <th>4</th>\n",
              "      <td>32</td>\n",
              "      <td>9</td>\n",
              "      <td>1</td>\n",
              "      <td>46</td>\n",
              "      <td>252</td>\n",
              "      <td>20</td>\n",
              "      <td>1</td>\n",
              "    </tr>\n",
              "    <tr>\n",
              "      <th>5</th>\n",
              "      <td>28</td>\n",
              "      <td>18</td>\n",
              "      <td>6</td>\n",
              "      <td>1</td>\n",
              "      <td>20</td>\n",
              "      <td>175</td>\n",
              "      <td>23</td>\n",
              "    </tr>\n",
              "    <tr>\n",
              "      <th>6</th>\n",
              "      <td>14</td>\n",
              "      <td>1</td>\n",
              "      <td>0</td>\n",
              "      <td>0</td>\n",
              "      <td>7</td>\n",
              "      <td>4</td>\n",
              "      <td>99</td>\n",
              "    </tr>\n",
              "  </tbody>\n",
              "</table>\n",
              "</div>"
            ],
            "text/plain": [
              "     0    1    2    3    4    5   6\n",
              "0  184   28    6   31   24   19  35\n",
              "1    4  163   15    7    2   12   1\n",
              "2    0   28  342    8    1    1   6\n",
              "3   47   89   21  428   35   33  37\n",
              "4   32    9    1   46  252   20   1\n",
              "5   28   18    6    1   20  175  23\n",
              "6   14    1    0    0    7    4  99"
            ]
          },
          "metadata": {
            "tags": []
          },
          "execution_count": 45
        }
      ]
    },
    {
      "cell_type": "markdown",
      "metadata": {
        "id": "s0mplyYbV7aP"
      },
      "source": [
        "### Labels 10%"
      ]
    },
    {
      "cell_type": "code",
      "metadata": {
        "id": "aPGn_7glWjk8"
      },
      "source": [
        "tot_labels = np.sum(labels, axis=0)   # total number of data for each class\n",
        "ten_perc = tot_labels//10             # number of training data for each class\n",
        "vec_labels = np.argmax(labels,axis=1) # vector of labels"
      ],
      "execution_count": null,
      "outputs": []
    },
    {
      "cell_type": "code",
      "metadata": {
        "id": "VgsY5kSFWoMY"
      },
      "source": [
        "index_training_data, Y = Y_matrix(vec_labels, labels, ten_perc)   # position of training data and matrix Y "
      ],
      "execution_count": null,
      "outputs": []
    },
    {
      "cell_type": "markdown",
      "metadata": {
        "id": "oLsGAP5nW3oB"
      },
      "source": [
        "Compute confusion matrix in the case in which $\\alpha = 0.75$ and calculate accuracy, precision and recall.\n",
        "\n"
      ]
    },
    {
      "cell_type": "code",
      "metadata": {
        "id": "iuVJpM7XWw_H"
      },
      "source": [
        "X = tensor_pagerank(A, Y, alfa=0.75)\n",
        "maxX = np.argmax(X, axis=1)"
      ],
      "execution_count": null,
      "outputs": []
    },
    {
      "cell_type": "code",
      "metadata": {
        "colab": {
          "base_uri": "https://localhost:8080/",
          "height": 324
        },
        "id": "qHJCIO1gpzcu",
        "outputId": "201ff557-0a9d-4db1-cf9b-6977e6c9b49a"
      },
      "source": [
        "# Evaluate confusion matrix\n",
        "cm = metrics.confusion_matrix(vec_labels, maxX)\n",
        "cm = cm-np.diag(ten_perc)                       # remove data of which I know labels\n",
        "\n",
        "# Compute the accuracy of the class assignment\n",
        "acc10_1,prec10_1,rec10_1 = validation_metrics(cm)\n",
        "print('Accuracy:', acc10_1, '\\nRecall:', rec10_1, '\\nPrecision:', prec10_1)\n",
        "\n",
        "# Show the confusion matrix\n",
        "pd.DataFrame(cm)"
      ],
      "execution_count": null,
      "outputs": [
        {
          "output_type": "stream",
          "text": [
            "Accuracy: 0.7714285714285715 \n",
            "Recall: 0.782406347260318 \n",
            "Precision: 0.7443277630513518\n"
          ],
          "name": "stdout"
        },
        {
          "output_type": "execute_result",
          "data": {
            "text/html": [
              "<div>\n",
              "<style scoped>\n",
              "    .dataframe tbody tr th:only-of-type {\n",
              "        vertical-align: middle;\n",
              "    }\n",
              "\n",
              "    .dataframe tbody tr th {\n",
              "        vertical-align: top;\n",
              "    }\n",
              "\n",
              "    .dataframe thead th {\n",
              "        text-align: right;\n",
              "    }\n",
              "</style>\n",
              "<table border=\"1\" class=\"dataframe\">\n",
              "  <thead>\n",
              "    <tr style=\"text-align: right;\">\n",
              "      <th></th>\n",
              "      <th>0</th>\n",
              "      <th>1</th>\n",
              "      <th>2</th>\n",
              "      <th>3</th>\n",
              "      <th>4</th>\n",
              "      <th>5</th>\n",
              "      <th>6</th>\n",
              "    </tr>\n",
              "  </thead>\n",
              "  <tbody>\n",
              "    <tr>\n",
              "      <th>0</th>\n",
              "      <td>209</td>\n",
              "      <td>8</td>\n",
              "      <td>3</td>\n",
              "      <td>24</td>\n",
              "      <td>8</td>\n",
              "      <td>15</td>\n",
              "      <td>43</td>\n",
              "    </tr>\n",
              "    <tr>\n",
              "      <th>1</th>\n",
              "      <td>3</td>\n",
              "      <td>155</td>\n",
              "      <td>18</td>\n",
              "      <td>11</td>\n",
              "      <td>0</td>\n",
              "      <td>4</td>\n",
              "      <td>2</td>\n",
              "    </tr>\n",
              "    <tr>\n",
              "      <th>2</th>\n",
              "      <td>4</td>\n",
              "      <td>3</td>\n",
              "      <td>341</td>\n",
              "      <td>3</td>\n",
              "      <td>1</td>\n",
              "      <td>10</td>\n",
              "      <td>4</td>\n",
              "    </tr>\n",
              "    <tr>\n",
              "      <th>3</th>\n",
              "      <td>59</td>\n",
              "      <td>27</td>\n",
              "      <td>19</td>\n",
              "      <td>483</td>\n",
              "      <td>32</td>\n",
              "      <td>13</td>\n",
              "      <td>21</td>\n",
              "    </tr>\n",
              "    <tr>\n",
              "      <th>4</th>\n",
              "      <td>28</td>\n",
              "      <td>18</td>\n",
              "      <td>0</td>\n",
              "      <td>32</td>\n",
              "      <td>257</td>\n",
              "      <td>2</td>\n",
              "      <td>5</td>\n",
              "    </tr>\n",
              "    <tr>\n",
              "      <th>5</th>\n",
              "      <td>23</td>\n",
              "      <td>9</td>\n",
              "      <td>6</td>\n",
              "      <td>10</td>\n",
              "      <td>2</td>\n",
              "      <td>179</td>\n",
              "      <td>28</td>\n",
              "    </tr>\n",
              "    <tr>\n",
              "      <th>6</th>\n",
              "      <td>6</td>\n",
              "      <td>1</td>\n",
              "      <td>1</td>\n",
              "      <td>1</td>\n",
              "      <td>0</td>\n",
              "      <td>5</td>\n",
              "      <td>104</td>\n",
              "    </tr>\n",
              "  </tbody>\n",
              "</table>\n",
              "</div>"
            ],
            "text/plain": [
              "     0    1    2    3    4    5    6\n",
              "0  209    8    3   24    8   15   43\n",
              "1    3  155   18   11    0    4    2\n",
              "2    4    3  341    3    1   10    4\n",
              "3   59   27   19  483   32   13   21\n",
              "4   28   18    0   32  257    2    5\n",
              "5   23    9    6   10    2  179   28\n",
              "6    6    1    1    1    0    5  104"
            ]
          },
          "metadata": {
            "tags": []
          },
          "execution_count": 49
        }
      ]
    },
    {
      "cell_type": "markdown",
      "metadata": {
        "id": "QlTv0FNEXKUC"
      },
      "source": [
        "Compute confusion matrix in the case in which $\\alpha = 0.5$ and calculate accuracy, precision and recall."
      ]
    },
    {
      "cell_type": "code",
      "metadata": {
        "id": "261SMlwlXFOB"
      },
      "source": [
        "X = tensor_pagerank(A, Y, alfa=0.5)\n",
        "maxX = np.argmax(X, axis=1)"
      ],
      "execution_count": null,
      "outputs": []
    },
    {
      "cell_type": "code",
      "metadata": {
        "colab": {
          "base_uri": "https://localhost:8080/",
          "height": 324
        },
        "id": "9rG3khzvXDLl",
        "outputId": "cf25a906-531f-4621-ea37-90e1edd34d45"
      },
      "source": [
        "# Evaluate confusion matrix\n",
        "cm = metrics.confusion_matrix(vec_labels, maxX)\n",
        "cm = cm-np.diag(ten_perc)                       # remove data of which I know labels\n",
        "\n",
        "# Compute the accuracy of the class assignment\n",
        "acc10_2,prec10_2,rec10_2 = validation_metrics(cm)\n",
        "print('Accuracy:', acc10_2, '\\nRecall:', rec10_2, '\\nPrecision:', prec10_2)\n",
        "\n",
        "# Show the confusion matrix\n",
        "pd.DataFrame(cm)"
      ],
      "execution_count": null,
      "outputs": [
        {
          "output_type": "stream",
          "text": [
            "Accuracy: 0.7607142857142857 \n",
            "Recall: 0.7682528869422691 \n",
            "Precision: 0.7356938035240069\n"
          ],
          "name": "stdout"
        },
        {
          "output_type": "execute_result",
          "data": {
            "text/html": [
              "<div>\n",
              "<style scoped>\n",
              "    .dataframe tbody tr th:only-of-type {\n",
              "        vertical-align: middle;\n",
              "    }\n",
              "\n",
              "    .dataframe tbody tr th {\n",
              "        vertical-align: top;\n",
              "    }\n",
              "\n",
              "    .dataframe thead th {\n",
              "        text-align: right;\n",
              "    }\n",
              "</style>\n",
              "<table border=\"1\" class=\"dataframe\">\n",
              "  <thead>\n",
              "    <tr style=\"text-align: right;\">\n",
              "      <th></th>\n",
              "      <th>0</th>\n",
              "      <th>1</th>\n",
              "      <th>2</th>\n",
              "      <th>3</th>\n",
              "      <th>4</th>\n",
              "      <th>5</th>\n",
              "      <th>6</th>\n",
              "    </tr>\n",
              "  </thead>\n",
              "  <tbody>\n",
              "    <tr>\n",
              "      <th>0</th>\n",
              "      <td>207</td>\n",
              "      <td>7</td>\n",
              "      <td>5</td>\n",
              "      <td>29</td>\n",
              "      <td>9</td>\n",
              "      <td>14</td>\n",
              "      <td>39</td>\n",
              "    </tr>\n",
              "    <tr>\n",
              "      <th>1</th>\n",
              "      <td>5</td>\n",
              "      <td>151</td>\n",
              "      <td>18</td>\n",
              "      <td>13</td>\n",
              "      <td>0</td>\n",
              "      <td>4</td>\n",
              "      <td>2</td>\n",
              "    </tr>\n",
              "    <tr>\n",
              "      <th>2</th>\n",
              "      <td>4</td>\n",
              "      <td>3</td>\n",
              "      <td>341</td>\n",
              "      <td>3</td>\n",
              "      <td>1</td>\n",
              "      <td>10</td>\n",
              "      <td>4</td>\n",
              "    </tr>\n",
              "    <tr>\n",
              "      <th>3</th>\n",
              "      <td>60</td>\n",
              "      <td>25</td>\n",
              "      <td>19</td>\n",
              "      <td>484</td>\n",
              "      <td>35</td>\n",
              "      <td>13</td>\n",
              "      <td>18</td>\n",
              "    </tr>\n",
              "    <tr>\n",
              "      <th>4</th>\n",
              "      <td>27</td>\n",
              "      <td>14</td>\n",
              "      <td>1</td>\n",
              "      <td>45</td>\n",
              "      <td>247</td>\n",
              "      <td>2</td>\n",
              "      <td>6</td>\n",
              "    </tr>\n",
              "    <tr>\n",
              "      <th>5</th>\n",
              "      <td>22</td>\n",
              "      <td>12</td>\n",
              "      <td>7</td>\n",
              "      <td>11</td>\n",
              "      <td>4</td>\n",
              "      <td>172</td>\n",
              "      <td>29</td>\n",
              "    </tr>\n",
              "    <tr>\n",
              "      <th>6</th>\n",
              "      <td>5</td>\n",
              "      <td>1</td>\n",
              "      <td>1</td>\n",
              "      <td>2</td>\n",
              "      <td>0</td>\n",
              "      <td>7</td>\n",
              "      <td>102</td>\n",
              "    </tr>\n",
              "  </tbody>\n",
              "</table>\n",
              "</div>"
            ],
            "text/plain": [
              "     0    1    2    3    4    5    6\n",
              "0  207    7    5   29    9   14   39\n",
              "1    5  151   18   13    0    4    2\n",
              "2    4    3  341    3    1   10    4\n",
              "3   60   25   19  484   35   13   18\n",
              "4   27   14    1   45  247    2    6\n",
              "5   22   12    7   11    4  172   29\n",
              "6    5    1    1    2    0    7  102"
            ]
          },
          "metadata": {
            "tags": []
          },
          "execution_count": 51
        }
      ]
    },
    {
      "cell_type": "markdown",
      "metadata": {
        "id": "VOs-VBUJXMUy"
      },
      "source": [
        "Compute confusion matrix in the case in which $\\alpha = 0.25$ and calculate accuracy, precision and recall."
      ]
    },
    {
      "cell_type": "code",
      "metadata": {
        "id": "z56fsLKsXGUV"
      },
      "source": [
        "X = tensor_pagerank(A, Y, alfa=0.25)\n",
        "maxX = np.argmax(X, axis=1)"
      ],
      "execution_count": null,
      "outputs": []
    },
    {
      "cell_type": "code",
      "metadata": {
        "colab": {
          "base_uri": "https://localhost:8080/",
          "height": 324
        },
        "id": "qwj9Yz0TXDyJ",
        "outputId": "f4c672d2-8843-4240-9e17-d9462244c041"
      },
      "source": [
        "# Evaluate confusion matrix\n",
        "cm = metrics.confusion_matrix(vec_labels, maxX)\n",
        "cm = cm-np.diag(ten_perc)                       # remove data of which I know labels\n",
        "\n",
        "# Compute the accuracy of the class assignment\n",
        "acc10_3,prec10_3,rec10_3 = validation_metrics(cm)\n",
        "print('Accuracy:', acc10_3, '\\nRecall:', rec10_3, '\\nPrecision:', prec10_3)\n",
        "\n",
        "# Show the confusion matrix\n",
        "pd.DataFrame(cm)"
      ],
      "execution_count": null,
      "outputs": [
        {
          "output_type": "stream",
          "text": [
            "Accuracy: 0.7558035714285715 \n",
            "Recall: 0.7596525049142434 \n",
            "Precision: 0.733465858224032\n"
          ],
          "name": "stdout"
        },
        {
          "output_type": "execute_result",
          "data": {
            "text/html": [
              "<div>\n",
              "<style scoped>\n",
              "    .dataframe tbody tr th:only-of-type {\n",
              "        vertical-align: middle;\n",
              "    }\n",
              "\n",
              "    .dataframe tbody tr th {\n",
              "        vertical-align: top;\n",
              "    }\n",
              "\n",
              "    .dataframe thead th {\n",
              "        text-align: right;\n",
              "    }\n",
              "</style>\n",
              "<table border=\"1\" class=\"dataframe\">\n",
              "  <thead>\n",
              "    <tr style=\"text-align: right;\">\n",
              "      <th></th>\n",
              "      <th>0</th>\n",
              "      <th>1</th>\n",
              "      <th>2</th>\n",
              "      <th>3</th>\n",
              "      <th>4</th>\n",
              "      <th>5</th>\n",
              "      <th>6</th>\n",
              "    </tr>\n",
              "  </thead>\n",
              "  <tbody>\n",
              "    <tr>\n",
              "      <th>0</th>\n",
              "      <td>205</td>\n",
              "      <td>8</td>\n",
              "      <td>6</td>\n",
              "      <td>33</td>\n",
              "      <td>9</td>\n",
              "      <td>14</td>\n",
              "      <td>35</td>\n",
              "    </tr>\n",
              "    <tr>\n",
              "      <th>1</th>\n",
              "      <td>5</td>\n",
              "      <td>145</td>\n",
              "      <td>19</td>\n",
              "      <td>18</td>\n",
              "      <td>0</td>\n",
              "      <td>4</td>\n",
              "      <td>2</td>\n",
              "    </tr>\n",
              "    <tr>\n",
              "      <th>2</th>\n",
              "      <td>4</td>\n",
              "      <td>3</td>\n",
              "      <td>341</td>\n",
              "      <td>3</td>\n",
              "      <td>1</td>\n",
              "      <td>13</td>\n",
              "      <td>1</td>\n",
              "    </tr>\n",
              "    <tr>\n",
              "      <th>3</th>\n",
              "      <td>60</td>\n",
              "      <td>23</td>\n",
              "      <td>19</td>\n",
              "      <td>486</td>\n",
              "      <td>36</td>\n",
              "      <td>13</td>\n",
              "      <td>17</td>\n",
              "    </tr>\n",
              "    <tr>\n",
              "      <th>4</th>\n",
              "      <td>27</td>\n",
              "      <td>10</td>\n",
              "      <td>1</td>\n",
              "      <td>51</td>\n",
              "      <td>244</td>\n",
              "      <td>2</td>\n",
              "      <td>7</td>\n",
              "    </tr>\n",
              "    <tr>\n",
              "      <th>5</th>\n",
              "      <td>20</td>\n",
              "      <td>12</td>\n",
              "      <td>7</td>\n",
              "      <td>18</td>\n",
              "      <td>4</td>\n",
              "      <td>172</td>\n",
              "      <td>24</td>\n",
              "    </tr>\n",
              "    <tr>\n",
              "      <th>6</th>\n",
              "      <td>6</td>\n",
              "      <td>1</td>\n",
              "      <td>1</td>\n",
              "      <td>2</td>\n",
              "      <td>0</td>\n",
              "      <td>8</td>\n",
              "      <td>100</td>\n",
              "    </tr>\n",
              "  </tbody>\n",
              "</table>\n",
              "</div>"
            ],
            "text/plain": [
              "     0    1    2    3    4    5    6\n",
              "0  205    8    6   33    9   14   35\n",
              "1    5  145   19   18    0    4    2\n",
              "2    4    3  341    3    1   13    1\n",
              "3   60   23   19  486   36   13   17\n",
              "4   27   10    1   51  244    2    7\n",
              "5   20   12    7   18    4  172   24\n",
              "6    6    1    1    2    0    8  100"
            ]
          },
          "metadata": {
            "tags": []
          },
          "execution_count": 53
        }
      ]
    },
    {
      "cell_type": "markdown",
      "metadata": {
        "id": "fUgEqFaHXs9i"
      },
      "source": [
        "### Accuracy, precision and recall as a function of alpha"
      ]
    },
    {
      "cell_type": "code",
      "metadata": {
        "id": "7SxHRNzEbzQv"
      },
      "source": [
        "alpha=[0.75,0.5,0.25]"
      ],
      "execution_count": null,
      "outputs": []
    },
    {
      "cell_type": "code",
      "metadata": {
        "colab": {
          "base_uri": "https://localhost:8080/",
          "height": 297
        },
        "id": "hwoBtEHmbrO3",
        "outputId": "30497ac2-8cb9-4cf5-aa15-ee6d51f8c954"
      },
      "source": [
        "plt.plot(alpha,[100*acc5_1,100*acc5_2,100*acc5_3])\n",
        "plt.plot(alpha,[100*prec5_1,100*prec5_2,100*prec5_3])\n",
        "plt.plot(alpha,[100*rec5_1,100*rec5_2,100*rec5_3])\n",
        "plt.xlabel('alpha')\n",
        "plt.ylabel('%')\n",
        "plt.legend(['Accuracy','Precision','Recall'])\n",
        "plt.title('Label spreading with 5% of nodes')\n",
        "plt.tight_layout()\n",
        "plt.show()"
      ],
      "execution_count": null,
      "outputs": [
        {
          "output_type": "display_data",
          "data": {
            "image/png": "[encoded data removed]",
            "text/plain": [
              "<Figure size 432x288 with 1 Axes>"
            ]
          },
          "metadata": {
            "tags": [],
            "needs_background": "light"
          }
        }
      ]
    },
    {
      "cell_type": "code",
      "metadata": {
        "colab": {
          "base_uri": "https://localhost:8080/",
          "height": 297
        },
        "id": "KgGghrQ6Y9t_",
        "outputId": "f30cf632-d99e-4243-d325-c7b86ee11783"
      },
      "source": [
        "plt.plot(alpha,[100*acc10_1,100*acc10_2,100*acc10_3])\n",
        "plt.plot(alpha,[100*prec10_1,100*prec10_2,100*prec10_3])\n",
        "plt.plot(alpha,[100*rec10_1,100*rec10_2,100*rec10_3])\n",
        "plt.xlabel('alpha')\n",
        "plt.ylabel('%')\n",
        "plt.legend(['Accuracy','Precision','Recall'])\n",
        "plt.title('Label spreading with 10% of nodes')\n",
        "plt.tight_layout()\n",
        "plt.show()"
      ],
      "execution_count": null,
      "outputs": [
        {
          "output_type": "display_data",
          "data": {
            "image/png": "[encoded data removed]",
            "text/plain": [
              "<Figure size 432x288 with 1 Axes>"
            ]
          },
          "metadata": {
            "tags": [],
            "needs_background": "light"
          }
        }
      ]
    },
    {
      "cell_type": "markdown",
      "metadata": {
        "id": "ea2nIMbIkHAy"
      },
      "source": [
        "It is easy to see that as $\\alpha$ increase so do accuracy, precision and recall. This can follow from the fact that with a bigger $\\alpha$ the probability of random jump decreases. Nevertheless is not trivial that continuing to increase $\\alpha$ then accuracy grows, $\\alpha$ is an important variable that needs a fine tuning."
      ]
    },
    {
      "cell_type": "markdown",
      "metadata": {
        "id": "erC5Q3W6jMkS"
      },
      "source": [
        "## Label spreading cora-cit-hypergraph"
      ]
    },
    {
      "cell_type": "code",
      "metadata": {
        "id": "PST2NlawkHbh"
      },
      "source": [
        "hypergraph = pd.read_pickle('hypergraph.pickle')   # dictionary with values=nodes in simpleces\n",
        "features = pd.read_pickle('features.pickle')\n",
        "labels = pd.read_pickle('labels.pickle')           # vector (2708,)"
      ],
      "execution_count": null,
      "outputs": []
    },
    {
      "cell_type": "markdown",
      "metadata": {
        "id": "GkQGk0qOODcl"
      },
      "source": [
        "Create incident matrix"
      ]
    },
    {
      "cell_type": "code",
      "metadata": {
        "id": "4FA73OI-ks8p"
      },
      "source": [
        "def incident_matrix(hypergraph,n):\n",
        "  # Input: hypergraph, nodes number\n",
        "  # Output: incident matrix\n",
        "   \n",
        "  m = len(hypergraph)            # number of hyperdge\n",
        "  M = np.zeros([n,m])            # initialize M\n",
        "\n",
        "  # create M\n",
        "  for (j,i) in enumerate(hypergraph.keys()):\n",
        "    M[list(hypergraph[i]),j]=1   \n",
        "\n",
        "  return csr_matrix(M)"
      ],
      "execution_count": null,
      "outputs": []
    },
    {
      "cell_type": "code",
      "metadata": {
        "id": "QnVakfRQljT7"
      },
      "source": [
        "n = len(labels)                         # number of nodes\n",
        "M1 = incident_matrix(hypergraph, n)     # incident matrix"
      ],
      "execution_count": null,
      "outputs": []
    },
    {
      "cell_type": "code",
      "metadata": {
        "id": "EuFquAkxhFzx"
      },
      "source": [
        "A=M1@M1.T"
      ],
      "execution_count": null,
      "outputs": []
    },
    {
      "cell_type": "code",
      "metadata": {
        "id": "TniEq9L5hK-r"
      },
      "source": [
        "A=csr_matrix.toarray(A)"
      ],
      "execution_count": null,
      "outputs": []
    },
    {
      "cell_type": "code",
      "metadata": {
        "colab": {
          "base_uri": "https://localhost:8080/"
        },
        "id": "XHuR3edkiFkI",
        "outputId": "11b8a6f6-bf9d-4e09-b53c-9677609d1e63"
      },
      "source": [
        "np.diag(A)[1:100]"
      ],
      "execution_count": null,
      "outputs": [
        {
          "output_type": "execute_result",
          "data": {
            "text/plain": [
              "array([ 0.,  0.,  3.,  1.,  0.,  0.,  0.,  1.,  0.,  0.,  0.,  1.,  1.,\n",
              "       15.,  9.,  0.,  0.,  3.,  1.,  1.,  0.,  2.,  0.,  0.,  5.,  0.,\n",
              "        0.,  0.,  0.,  5.,  0.,  1.,  1.,  0.,  1.,  5.,  1.,  2.,  2.,\n",
              "        0., 10.,  1.,  1.,  0.,  1.,  2.,  0.,  3.,  0.,  0.,  0.,  2.,\n",
              "        0.,  0.,  3.,  0.,  1.,  4.,  4.,  2.,  0.,  4.,  3.,  1.,  0.,\n",
              "       13.,  0.,  6.,  0.,  6.,  6.,  2.,  0., 33.,  5., 13.,  1.,  2.,\n",
              "        0.,  0.,  0.,  7.,  0.,  7.,  2.,  3.,  2.,  7.,  0.,  1.,  0.,\n",
              "        0.,  0.,  0.,  0.,  0.,  0.,  0.,  7.])"
            ]
          },
          "metadata": {
            "tags": []
          },
          "execution_count": 68
        }
      ]
    },
    {
      "cell_type": "markdown",
      "metadata": {
        "id": "YB1j-ihzOfc7"
      },
      "source": [
        "Create adjacency matrix from incident matrix and take largest strongly connected component."
      ]
    },
    {
      "cell_type": "code",
      "metadata": {
        "id": "lvTDiRiGdTiD"
      },
      "source": [
        "A, labels = largest_strongly_connected_component(M1@M1.T, labels)\n",
        "_, features = largest_strongly_connected_component_labels(M1@M1.T, features)\n",
        "n = len(labels)                         # number of nodes"
      ],
      "execution_count": null,
      "outputs": []
    },
    {
      "cell_type": "code",
      "metadata": {
        "id": "bcxW7Yq3iREy"
      },
      "source": [
        "for i in range(np.shape(A)[0]):\n",
        "  A[i,i]=0"
      ],
      "execution_count": null,
      "outputs": []
    },
    {
      "cell_type": "markdown",
      "metadata": {
        "id": "CUsY-pImP80E"
      },
      "source": [
        "Count number of data in each class"
      ]
    },
    {
      "cell_type": "code",
      "metadata": {
        "id": "hLZ5DE6t9Jrv"
      },
      "source": [
        "tot_labels = []                       # numbers of data for each class\n",
        "num_labels = max(labels)+1            # numbers of labels\n",
        "for i in range(num_labels):\n",
        "  tot_labels.append(labels.count(i))\n",
        "\n",
        "# transform in np.array\n",
        "tot_labels = np.array(tot_labels)\n",
        "labels = np.array(labels)"
      ],
      "execution_count": null,
      "outputs": []
    },
    {
      "cell_type": "markdown",
      "metadata": {
        "id": "OdMtEsziQaBM"
      },
      "source": [
        "Create matrix of labels"
      ]
    },
    {
      "cell_type": "code",
      "metadata": {
        "id": "KTVBie1HBIzB"
      },
      "source": [
        "mat_labels = np.zeros([n,num_labels])\n",
        "for el in enumerate(labels):\n",
        "   mat_labels[el]=1"
      ],
      "execution_count": null,
      "outputs": []
    },
    {
      "cell_type": "markdown",
      "metadata": {
        "id": "hUqWnYVJmYh2"
      },
      "source": [
        "### Label 5%"
      ]
    },
    {
      "cell_type": "markdown",
      "metadata": {
        "id": "3DBLmO0sRR_0"
      },
      "source": [
        "Find solution and plot the result"
      ]
    },
    {
      "cell_type": "code",
      "metadata": {
        "id": "IKqzPUvB5H2w"
      },
      "source": [
        "five_perc = tot_labels//20            # number of training data for each class"
      ],
      "execution_count": null,
      "outputs": []
    },
    {
      "cell_type": "code",
      "metadata": {
        "id": "ZsqGq1LSAZGY"
      },
      "source": [
        "index_training_data, Y = Y_matrix(labels, mat_labels, five_perc)  # position of training data and matrix Y "
      ],
      "execution_count": null,
      "outputs": []
    },
    {
      "cell_type": "markdown",
      "metadata": {
        "id": "tsX5UDQWmoY3"
      },
      "source": [
        "Compute confusion matrix in the case in which $\\alpha = 0.75$ and calculate accuracy, precision and recall."
      ]
    },
    {
      "cell_type": "code",
      "metadata": {
        "id": "-Omt38w9E4VI"
      },
      "source": [
        "alfa=0.75\n",
        "X = tensor_pagerank(A, Y, alfa)   # matrix\n",
        "maxX = np.argmax(X, axis=1)       # solution is index of maximum for each row"
      ],
      "execution_count": null,
      "outputs": []
    },
    {
      "cell_type": "code",
      "metadata": {
        "colab": {
          "base_uri": "https://localhost:8080/",
          "height": 324
        },
        "id": "w7bQUIHIeomy",
        "outputId": "690a3140-1eba-4137-f9f6-593162ff9b54"
      },
      "source": [
        "# Evaluate confusion matrix\n",
        "cm = metrics.confusion_matrix(labels, maxX)\n",
        "cm = cm-np.diag(five_perc)                       # remove data of which I know labels\n",
        "\n",
        "# Compute the accuracy of the class assignment\n",
        "acc5_1,prec5_1,rec5_1 = validation_metrics(cm)\n",
        "print('Accuracy:', acc5_1, '\\nRecall:', rec5_1, '\\nPrecision:', prec5_1)\n",
        "\n",
        "# Show the confusion matrix\n",
        "pd.DataFrame(cm)"
      ],
      "execution_count": null,
      "outputs": [
        {
          "output_type": "stream",
          "text": [
            "Accuracy: 0.7053712480252765 \n",
            "Recall: 0.7130036658565722 \n",
            "Precision: 0.6822196367894879\n"
          ],
          "name": "stdout"
        },
        {
          "output_type": "execute_result",
          "data": {
            "text/html": [
              "<div>\n",
              "<style scoped>\n",
              "    .dataframe tbody tr th:only-of-type {\n",
              "        vertical-align: middle;\n",
              "    }\n",
              "\n",
              "    .dataframe tbody tr th {\n",
              "        vertical-align: top;\n",
              "    }\n",
              "\n",
              "    .dataframe thead th {\n",
              "        text-align: right;\n",
              "    }\n",
              "</style>\n",
              "<table border=\"1\" class=\"dataframe\">\n",
              "  <thead>\n",
              "    <tr style=\"text-align: right;\">\n",
              "      <th></th>\n",
              "      <th>0</th>\n",
              "      <th>1</th>\n",
              "      <th>2</th>\n",
              "      <th>3</th>\n",
              "      <th>4</th>\n",
              "      <th>5</th>\n",
              "      <th>6</th>\n",
              "    </tr>\n",
              "  </thead>\n",
              "  <tbody>\n",
              "    <tr>\n",
              "      <th>0</th>\n",
              "      <td>193</td>\n",
              "      <td>5</td>\n",
              "      <td>1</td>\n",
              "      <td>7</td>\n",
              "      <td>1</td>\n",
              "      <td>0</td>\n",
              "      <td>3</td>\n",
              "    </tr>\n",
              "    <tr>\n",
              "      <th>1</th>\n",
              "      <td>2</td>\n",
              "      <td>123</td>\n",
              "      <td>19</td>\n",
              "      <td>14</td>\n",
              "      <td>9</td>\n",
              "      <td>9</td>\n",
              "      <td>10</td>\n",
              "    </tr>\n",
              "    <tr>\n",
              "      <th>2</th>\n",
              "      <td>1</td>\n",
              "      <td>10</td>\n",
              "      <td>44</td>\n",
              "      <td>1</td>\n",
              "      <td>5</td>\n",
              "      <td>0</td>\n",
              "      <td>1</td>\n",
              "    </tr>\n",
              "    <tr>\n",
              "      <th>3</th>\n",
              "      <td>21</td>\n",
              "      <td>38</td>\n",
              "      <td>21</td>\n",
              "      <td>200</td>\n",
              "      <td>5</td>\n",
              "      <td>15</td>\n",
              "      <td>34</td>\n",
              "    </tr>\n",
              "    <tr>\n",
              "      <th>4</th>\n",
              "      <td>6</td>\n",
              "      <td>25</td>\n",
              "      <td>12</td>\n",
              "      <td>2</td>\n",
              "      <td>94</td>\n",
              "      <td>2</td>\n",
              "      <td>4</td>\n",
              "    </tr>\n",
              "    <tr>\n",
              "      <th>5</th>\n",
              "      <td>2</td>\n",
              "      <td>21</td>\n",
              "      <td>1</td>\n",
              "      <td>21</td>\n",
              "      <td>8</td>\n",
              "      <td>153</td>\n",
              "      <td>5</td>\n",
              "    </tr>\n",
              "    <tr>\n",
              "      <th>6</th>\n",
              "      <td>14</td>\n",
              "      <td>3</td>\n",
              "      <td>3</td>\n",
              "      <td>2</td>\n",
              "      <td>3</td>\n",
              "      <td>7</td>\n",
              "      <td>86</td>\n",
              "    </tr>\n",
              "  </tbody>\n",
              "</table>\n",
              "</div>"
            ],
            "text/plain": [
              "     0    1   2    3   4    5   6\n",
              "0  193    5   1    7   1    0   3\n",
              "1    2  123  19   14   9    9  10\n",
              "2    1   10  44    1   5    0   1\n",
              "3   21   38  21  200   5   15  34\n",
              "4    6   25  12    2  94    2   4\n",
              "5    2   21   1   21   8  153   5\n",
              "6   14    3   3    2   3    7  86"
            ]
          },
          "metadata": {
            "tags": []
          },
          "execution_count": 79
        }
      ]
    },
    {
      "cell_type": "markdown",
      "metadata": {
        "id": "iRfMi8KBmrVR"
      },
      "source": [
        "Compute confusion matrix in the case in which $\\alpha = 0.5$ and calculate accuracy, precision and recall."
      ]
    },
    {
      "cell_type": "code",
      "metadata": {
        "id": "E9RXZdeYmBt7"
      },
      "source": [
        "alfa = 0.5\n",
        "X = tensor_pagerank(A, Y, alfa)\n",
        "maxX = np.argmax(X, axis=1)"
      ],
      "execution_count": null,
      "outputs": []
    },
    {
      "cell_type": "code",
      "metadata": {
        "colab": {
          "base_uri": "https://localhost:8080/",
          "height": 324
        },
        "id": "tMVf2YDgmg8a",
        "outputId": "640b10fb-3af3-4975-e89d-18c1fab09f6b"
      },
      "source": [
        "# Evaluate confusion matrix\n",
        "cm = metrics.confusion_matrix(labels, maxX)\n",
        "cm = cm-np.diag(five_perc)                       # remove data of which I know labels\n",
        "\n",
        "# Compute the accuracy of the class assignment\n",
        "acc5_2,prec5_2,rec5_2 = validation_metrics(cm)\n",
        "print('Accuracy:', acc5_2, '\\nRecall:', rec5_2, '\\nPrecision:', prec5_2)\n",
        "\n",
        "# Show the confusion matrix\n",
        "pd.DataFrame(cm)"
      ],
      "execution_count": null,
      "outputs": [
        {
          "output_type": "stream",
          "text": [
            "Accuracy: 0.6895734597156398 \n",
            "Recall: 0.6894528587294563 \n",
            "Precision: 0.6683392422371618\n"
          ],
          "name": "stdout"
        },
        {
          "output_type": "execute_result",
          "data": {
            "text/html": [
              "<div>\n",
              "<style scoped>\n",
              "    .dataframe tbody tr th:only-of-type {\n",
              "        vertical-align: middle;\n",
              "    }\n",
              "\n",
              "    .dataframe tbody tr th {\n",
              "        vertical-align: top;\n",
              "    }\n",
              "\n",
              "    .dataframe thead th {\n",
              "        text-align: right;\n",
              "    }\n",
              "</style>\n",
              "<table border=\"1\" class=\"dataframe\">\n",
              "  <thead>\n",
              "    <tr style=\"text-align: right;\">\n",
              "      <th></th>\n",
              "      <th>0</th>\n",
              "      <th>1</th>\n",
              "      <th>2</th>\n",
              "      <th>3</th>\n",
              "      <th>4</th>\n",
              "      <th>5</th>\n",
              "      <th>6</th>\n",
              "    </tr>\n",
              "  </thead>\n",
              "  <tbody>\n",
              "    <tr>\n",
              "      <th>0</th>\n",
              "      <td>192</td>\n",
              "      <td>7</td>\n",
              "      <td>1</td>\n",
              "      <td>8</td>\n",
              "      <td>0</td>\n",
              "      <td>0</td>\n",
              "      <td>2</td>\n",
              "    </tr>\n",
              "    <tr>\n",
              "      <th>1</th>\n",
              "      <td>8</td>\n",
              "      <td>123</td>\n",
              "      <td>16</td>\n",
              "      <td>13</td>\n",
              "      <td>8</td>\n",
              "      <td>10</td>\n",
              "      <td>8</td>\n",
              "    </tr>\n",
              "    <tr>\n",
              "      <th>2</th>\n",
              "      <td>2</td>\n",
              "      <td>14</td>\n",
              "      <td>39</td>\n",
              "      <td>2</td>\n",
              "      <td>5</td>\n",
              "      <td>0</td>\n",
              "      <td>0</td>\n",
              "    </tr>\n",
              "    <tr>\n",
              "      <th>3</th>\n",
              "      <td>21</td>\n",
              "      <td>44</td>\n",
              "      <td>22</td>\n",
              "      <td>194</td>\n",
              "      <td>5</td>\n",
              "      <td>13</td>\n",
              "      <td>35</td>\n",
              "    </tr>\n",
              "    <tr>\n",
              "      <th>4</th>\n",
              "      <td>6</td>\n",
              "      <td>25</td>\n",
              "      <td>10</td>\n",
              "      <td>7</td>\n",
              "      <td>90</td>\n",
              "      <td>1</td>\n",
              "      <td>6</td>\n",
              "    </tr>\n",
              "    <tr>\n",
              "      <th>5</th>\n",
              "      <td>3</td>\n",
              "      <td>20</td>\n",
              "      <td>0</td>\n",
              "      <td>22</td>\n",
              "      <td>8</td>\n",
              "      <td>153</td>\n",
              "      <td>5</td>\n",
              "    </tr>\n",
              "    <tr>\n",
              "      <th>6</th>\n",
              "      <td>15</td>\n",
              "      <td>4</td>\n",
              "      <td>3</td>\n",
              "      <td>2</td>\n",
              "      <td>4</td>\n",
              "      <td>8</td>\n",
              "      <td>82</td>\n",
              "    </tr>\n",
              "  </tbody>\n",
              "</table>\n",
              "</div>"
            ],
            "text/plain": [
              "     0    1   2    3   4    5   6\n",
              "0  192    7   1    8   0    0   2\n",
              "1    8  123  16   13   8   10   8\n",
              "2    2   14  39    2   5    0   0\n",
              "3   21   44  22  194   5   13  35\n",
              "4    6   25  10    7  90    1   6\n",
              "5    3   20   0   22   8  153   5\n",
              "6   15    4   3    2   4    8  82"
            ]
          },
          "metadata": {
            "tags": []
          },
          "execution_count": 81
        }
      ]
    },
    {
      "cell_type": "markdown",
      "metadata": {
        "id": "Y0D4AvInmzAA"
      },
      "source": [
        "Compute confusion matrix in the case in which $\\alpha = 0.25$ and calculate accuracy, precision and recall."
      ]
    },
    {
      "cell_type": "code",
      "metadata": {
        "id": "asP_4150mHvT"
      },
      "source": [
        "alfa = 0.25\n",
        "X = tensor_pagerank(A, Y, alfa)\n",
        "maxX = np.argmax(X, axis=1)"
      ],
      "execution_count": null,
      "outputs": []
    },
    {
      "cell_type": "code",
      "metadata": {
        "colab": {
          "base_uri": "https://localhost:8080/",
          "height": 324
        },
        "id": "V70QR17JnBvs",
        "outputId": "f6fa66d2-52ab-4d08-8e2a-8078810514b0"
      },
      "source": [
        "# Evaluate confusion matrix\n",
        "cm = metrics.confusion_matrix(labels, maxX)\n",
        "cm = cm-np.diag(five_perc)                       # remove data of which I know labels\n",
        "\n",
        "# Compute the accuracy of the class assignment\n",
        "acc5_3,prec5_3,rec5_3 = validation_metrics(cm)\n",
        "print('Accuracy:', acc5_3, '\\nRecall:', rec5_3, '\\nPrecision:', prec5_3)\n",
        "\n",
        "# Show the confusion matrix\n",
        "pd.DataFrame(cm)"
      ],
      "execution_count": null,
      "outputs": [
        {
          "output_type": "stream",
          "text": [
            "Accuracy: 0.6800947867298578 \n",
            "Recall: 0.6783452897354868 \n",
            "Precision: 0.6581110736088973\n"
          ],
          "name": "stdout"
        },
        {
          "output_type": "execute_result",
          "data": {
            "text/html": [
              "<div>\n",
              "<style scoped>\n",
              "    .dataframe tbody tr th:only-of-type {\n",
              "        vertical-align: middle;\n",
              "    }\n",
              "\n",
              "    .dataframe tbody tr th {\n",
              "        vertical-align: top;\n",
              "    }\n",
              "\n",
              "    .dataframe thead th {\n",
              "        text-align: right;\n",
              "    }\n",
              "</style>\n",
              "<table border=\"1\" class=\"dataframe\">\n",
              "  <thead>\n",
              "    <tr style=\"text-align: right;\">\n",
              "      <th></th>\n",
              "      <th>0</th>\n",
              "      <th>1</th>\n",
              "      <th>2</th>\n",
              "      <th>3</th>\n",
              "      <th>4</th>\n",
              "      <th>5</th>\n",
              "      <th>6</th>\n",
              "    </tr>\n",
              "  </thead>\n",
              "  <tbody>\n",
              "    <tr>\n",
              "      <th>0</th>\n",
              "      <td>188</td>\n",
              "      <td>7</td>\n",
              "      <td>1</td>\n",
              "      <td>10</td>\n",
              "      <td>0</td>\n",
              "      <td>0</td>\n",
              "      <td>4</td>\n",
              "    </tr>\n",
              "    <tr>\n",
              "      <th>1</th>\n",
              "      <td>8</td>\n",
              "      <td>121</td>\n",
              "      <td>16</td>\n",
              "      <td>15</td>\n",
              "      <td>8</td>\n",
              "      <td>10</td>\n",
              "      <td>8</td>\n",
              "    </tr>\n",
              "    <tr>\n",
              "      <th>2</th>\n",
              "      <td>2</td>\n",
              "      <td>15</td>\n",
              "      <td>38</td>\n",
              "      <td>2</td>\n",
              "      <td>5</td>\n",
              "      <td>0</td>\n",
              "      <td>0</td>\n",
              "    </tr>\n",
              "    <tr>\n",
              "      <th>3</th>\n",
              "      <td>17</td>\n",
              "      <td>43</td>\n",
              "      <td>22</td>\n",
              "      <td>191</td>\n",
              "      <td>6</td>\n",
              "      <td>14</td>\n",
              "      <td>41</td>\n",
              "    </tr>\n",
              "    <tr>\n",
              "      <th>4</th>\n",
              "      <td>6</td>\n",
              "      <td>24</td>\n",
              "      <td>10</td>\n",
              "      <td>9</td>\n",
              "      <td>89</td>\n",
              "      <td>1</td>\n",
              "      <td>6</td>\n",
              "    </tr>\n",
              "    <tr>\n",
              "      <th>5</th>\n",
              "      <td>3</td>\n",
              "      <td>20</td>\n",
              "      <td>0</td>\n",
              "      <td>21</td>\n",
              "      <td>8</td>\n",
              "      <td>155</td>\n",
              "      <td>4</td>\n",
              "    </tr>\n",
              "    <tr>\n",
              "      <th>6</th>\n",
              "      <td>15</td>\n",
              "      <td>8</td>\n",
              "      <td>3</td>\n",
              "      <td>1</td>\n",
              "      <td>4</td>\n",
              "      <td>8</td>\n",
              "      <td>79</td>\n",
              "    </tr>\n",
              "  </tbody>\n",
              "</table>\n",
              "</div>"
            ],
            "text/plain": [
              "     0    1   2    3   4    5   6\n",
              "0  188    7   1   10   0    0   4\n",
              "1    8  121  16   15   8   10   8\n",
              "2    2   15  38    2   5    0   0\n",
              "3   17   43  22  191   6   14  41\n",
              "4    6   24  10    9  89    1   6\n",
              "5    3   20   0   21   8  155   4\n",
              "6   15    8   3    1   4    8  79"
            ]
          },
          "metadata": {
            "tags": []
          },
          "execution_count": 83
        }
      ]
    },
    {
      "cell_type": "markdown",
      "metadata": {
        "id": "U6hUS-hznGdJ"
      },
      "source": [
        "### Label 10%"
      ]
    },
    {
      "cell_type": "code",
      "metadata": {
        "id": "SHLJzgRXnVI3"
      },
      "source": [
        "ten_perc = tot_labels//10            # number of training data for each class"
      ],
      "execution_count": null,
      "outputs": []
    },
    {
      "cell_type": "code",
      "metadata": {
        "id": "eBGxJm7JncYl"
      },
      "source": [
        "index_training_data, Y = Y_matrix(labels, mat_labels, ten_perc)  # position of training data and matrix Y "
      ],
      "execution_count": null,
      "outputs": []
    },
    {
      "cell_type": "markdown",
      "metadata": {
        "id": "2w-nWBhxnu5n"
      },
      "source": [
        "Compute confusion matrix in the case in which $\\alpha = 0.75$ and calculate accuracy, precision and recall."
      ]
    },
    {
      "cell_type": "code",
      "metadata": {
        "id": "A5RwhBlVni7P"
      },
      "source": [
        "alfa=0.75\n",
        "X = tensor_pagerank(A, Y, alfa)\n",
        "maxX = np.argmax(X, axis=1)"
      ],
      "execution_count": null,
      "outputs": []
    },
    {
      "cell_type": "code",
      "metadata": {
        "colab": {
          "base_uri": "https://localhost:8080/",
          "height": 324
        },
        "id": "MfHo-Y3lnmUI",
        "outputId": "93f7c275-283b-4944-b2bf-96eccdbceb0a"
      },
      "source": [
        "# Evaluate confusion matrix\n",
        "cm = metrics.confusion_matrix(labels, maxX)\n",
        "cm = cm-np.diag(five_perc)                       # remove data of which I know labels\n",
        "\n",
        "# Compute the accuracy of the class assignment\n",
        "acc10_1,prec10_1,rec10_1 = validation_metrics(cm)\n",
        "print('Accuracy:', acc10_1, '\\nRecall:', rec10_1, '\\nPrecision:', prec10_1)\n",
        "\n",
        "# Show the confusion matrix\n",
        "pd.DataFrame(cm)"
      ],
      "execution_count": null,
      "outputs": [
        {
          "output_type": "stream",
          "text": [
            "Accuracy: 0.7472353870458136 \n",
            "Recall: 0.7656971834356207 \n",
            "Precision: 0.719256129440238\n"
          ],
          "name": "stdout"
        },
        {
          "output_type": "execute_result",
          "data": {
            "text/html": [
              "<div>\n",
              "<style scoped>\n",
              "    .dataframe tbody tr th:only-of-type {\n",
              "        vertical-align: middle;\n",
              "    }\n",
              "\n",
              "    .dataframe tbody tr th {\n",
              "        vertical-align: top;\n",
              "    }\n",
              "\n",
              "    .dataframe thead th {\n",
              "        text-align: right;\n",
              "    }\n",
              "</style>\n",
              "<table border=\"1\" class=\"dataframe\">\n",
              "  <thead>\n",
              "    <tr style=\"text-align: right;\">\n",
              "      <th></th>\n",
              "      <th>0</th>\n",
              "      <th>1</th>\n",
              "      <th>2</th>\n",
              "      <th>3</th>\n",
              "      <th>4</th>\n",
              "      <th>5</th>\n",
              "      <th>6</th>\n",
              "    </tr>\n",
              "  </thead>\n",
              "  <tbody>\n",
              "    <tr>\n",
              "      <th>0</th>\n",
              "      <td>190</td>\n",
              "      <td>2</td>\n",
              "      <td>1</td>\n",
              "      <td>11</td>\n",
              "      <td>2</td>\n",
              "      <td>0</td>\n",
              "      <td>4</td>\n",
              "    </tr>\n",
              "    <tr>\n",
              "      <th>1</th>\n",
              "      <td>2</td>\n",
              "      <td>117</td>\n",
              "      <td>24</td>\n",
              "      <td>7</td>\n",
              "      <td>16</td>\n",
              "      <td>9</td>\n",
              "      <td>11</td>\n",
              "    </tr>\n",
              "    <tr>\n",
              "      <th>2</th>\n",
              "      <td>0</td>\n",
              "      <td>4</td>\n",
              "      <td>55</td>\n",
              "      <td>0</td>\n",
              "      <td>0</td>\n",
              "      <td>1</td>\n",
              "      <td>2</td>\n",
              "    </tr>\n",
              "    <tr>\n",
              "      <th>3</th>\n",
              "      <td>8</td>\n",
              "      <td>33</td>\n",
              "      <td>16</td>\n",
              "      <td>228</td>\n",
              "      <td>12</td>\n",
              "      <td>9</td>\n",
              "      <td>28</td>\n",
              "    </tr>\n",
              "    <tr>\n",
              "      <th>4</th>\n",
              "      <td>4</td>\n",
              "      <td>2</td>\n",
              "      <td>16</td>\n",
              "      <td>4</td>\n",
              "      <td>108</td>\n",
              "      <td>1</td>\n",
              "      <td>10</td>\n",
              "    </tr>\n",
              "    <tr>\n",
              "      <th>5</th>\n",
              "      <td>1</td>\n",
              "      <td>15</td>\n",
              "      <td>4</td>\n",
              "      <td>20</td>\n",
              "      <td>4</td>\n",
              "      <td>158</td>\n",
              "      <td>9</td>\n",
              "    </tr>\n",
              "    <tr>\n",
              "      <th>6</th>\n",
              "      <td>14</td>\n",
              "      <td>2</td>\n",
              "      <td>2</td>\n",
              "      <td>3</td>\n",
              "      <td>3</td>\n",
              "      <td>4</td>\n",
              "      <td>90</td>\n",
              "    </tr>\n",
              "  </tbody>\n",
              "</table>\n",
              "</div>"
            ],
            "text/plain": [
              "     0    1   2    3    4    5   6\n",
              "0  190    2   1   11    2    0   4\n",
              "1    2  117  24    7   16    9  11\n",
              "2    0    4  55    0    0    1   2\n",
              "3    8   33  16  228   12    9  28\n",
              "4    4    2  16    4  108    1  10\n",
              "5    1   15   4   20    4  158   9\n",
              "6   14    2   2    3    3    4  90"
            ]
          },
          "metadata": {
            "tags": []
          },
          "execution_count": 87
        }
      ]
    },
    {
      "cell_type": "markdown",
      "metadata": {
        "id": "H9b4K92WnwKc"
      },
      "source": [
        "Compute confusion matrix in the case in which $\\alpha = 0.5$ and calculate accuracy, precision and recall."
      ]
    },
    {
      "cell_type": "code",
      "metadata": {
        "id": "LFzpGRyqn4dJ"
      },
      "source": [
        "alfa=0.5\n",
        "X = tensor_pagerank(A, Y, alfa)\n",
        "maxX = np.argmax(X, axis=1)"
      ],
      "execution_count": null,
      "outputs": []
    },
    {
      "cell_type": "code",
      "metadata": {
        "colab": {
          "base_uri": "https://localhost:8080/",
          "height": 324
        },
        "id": "Qq5LN4-An2-U",
        "outputId": "7644e3ce-bd53-49d2-bc03-b6e785401489"
      },
      "source": [
        "# Evaluate confusion matrix\n",
        "cm = metrics.confusion_matrix(labels, maxX)\n",
        "cm = cm-np.diag(five_perc)                       # remove data of which I know labels\n",
        "\n",
        "# Compute the accuracy of the class assignment\n",
        "acc10_2,prec10_2,rec10_2 = validation_metrics(cm)\n",
        "print('Accuracy:', acc10_2, '\\nRecall:', rec10_2, '\\nPrecision:', prec10_2)\n",
        "\n",
        "# Show the confusion matrix\n",
        "pd.DataFrame(cm)"
      ],
      "execution_count": null,
      "outputs": [
        {
          "output_type": "stream",
          "text": [
            "Accuracy: 0.7401263823064771 \n",
            "Recall: 0.7507711528227249 \n",
            "Precision: 0.7117365773970494\n"
          ],
          "name": "stdout"
        },
        {
          "output_type": "execute_result",
          "data": {
            "text/html": [
              "<div>\n",
              "<style scoped>\n",
              "    .dataframe tbody tr th:only-of-type {\n",
              "        vertical-align: middle;\n",
              "    }\n",
              "\n",
              "    .dataframe tbody tr th {\n",
              "        vertical-align: top;\n",
              "    }\n",
              "\n",
              "    .dataframe thead th {\n",
              "        text-align: right;\n",
              "    }\n",
              "</style>\n",
              "<table border=\"1\" class=\"dataframe\">\n",
              "  <thead>\n",
              "    <tr style=\"text-align: right;\">\n",
              "      <th></th>\n",
              "      <th>0</th>\n",
              "      <th>1</th>\n",
              "      <th>2</th>\n",
              "      <th>3</th>\n",
              "      <th>4</th>\n",
              "      <th>5</th>\n",
              "      <th>6</th>\n",
              "    </tr>\n",
              "  </thead>\n",
              "  <tbody>\n",
              "    <tr>\n",
              "      <th>0</th>\n",
              "      <td>190</td>\n",
              "      <td>2</td>\n",
              "      <td>1</td>\n",
              "      <td>11</td>\n",
              "      <td>1</td>\n",
              "      <td>0</td>\n",
              "      <td>5</td>\n",
              "    </tr>\n",
              "    <tr>\n",
              "      <th>1</th>\n",
              "      <td>2</td>\n",
              "      <td>119</td>\n",
              "      <td>17</td>\n",
              "      <td>7</td>\n",
              "      <td>17</td>\n",
              "      <td>13</td>\n",
              "      <td>11</td>\n",
              "    </tr>\n",
              "    <tr>\n",
              "      <th>2</th>\n",
              "      <td>0</td>\n",
              "      <td>8</td>\n",
              "      <td>49</td>\n",
              "      <td>0</td>\n",
              "      <td>1</td>\n",
              "      <td>2</td>\n",
              "      <td>2</td>\n",
              "    </tr>\n",
              "    <tr>\n",
              "      <th>3</th>\n",
              "      <td>7</td>\n",
              "      <td>31</td>\n",
              "      <td>10</td>\n",
              "      <td>225</td>\n",
              "      <td>16</td>\n",
              "      <td>10</td>\n",
              "      <td>35</td>\n",
              "    </tr>\n",
              "    <tr>\n",
              "      <th>4</th>\n",
              "      <td>4</td>\n",
              "      <td>4</td>\n",
              "      <td>14</td>\n",
              "      <td>4</td>\n",
              "      <td>108</td>\n",
              "      <td>1</td>\n",
              "      <td>10</td>\n",
              "    </tr>\n",
              "    <tr>\n",
              "      <th>5</th>\n",
              "      <td>1</td>\n",
              "      <td>17</td>\n",
              "      <td>2</td>\n",
              "      <td>21</td>\n",
              "      <td>3</td>\n",
              "      <td>156</td>\n",
              "      <td>11</td>\n",
              "    </tr>\n",
              "    <tr>\n",
              "      <th>6</th>\n",
              "      <td>14</td>\n",
              "      <td>3</td>\n",
              "      <td>1</td>\n",
              "      <td>3</td>\n",
              "      <td>3</td>\n",
              "      <td>4</td>\n",
              "      <td>90</td>\n",
              "    </tr>\n",
              "  </tbody>\n",
              "</table>\n",
              "</div>"
            ],
            "text/plain": [
              "     0    1   2    3    4    5   6\n",
              "0  190    2   1   11    1    0   5\n",
              "1    2  119  17    7   17   13  11\n",
              "2    0    8  49    0    1    2   2\n",
              "3    7   31  10  225   16   10  35\n",
              "4    4    4  14    4  108    1  10\n",
              "5    1   17   2   21    3  156  11\n",
              "6   14    3   1    3    3    4  90"
            ]
          },
          "metadata": {
            "tags": []
          },
          "execution_count": 89
        }
      ]
    },
    {
      "cell_type": "markdown",
      "metadata": {
        "id": "SkNJfRSUnwcy"
      },
      "source": [
        "Compute confusion matrix in the case in which $\\alpha = 0.25$ and calculate accuracy, precision and recall."
      ]
    },
    {
      "cell_type": "code",
      "metadata": {
        "id": "Secc7coun5yb"
      },
      "source": [
        "alfa=0.25\n",
        "X = tensor_pagerank(A, Y, alfa)\n",
        "maxX = np.argmax(X, axis=1)"
      ],
      "execution_count": null,
      "outputs": []
    },
    {
      "cell_type": "code",
      "metadata": {
        "colab": {
          "base_uri": "https://localhost:8080/",
          "height": 324
        },
        "id": "Q8KNFyIDoADV",
        "outputId": "4c234dea-6da7-4758-ada1-0e71b6ffea1e"
      },
      "source": [
        "# Evaluate confusion matrix\n",
        "cm = metrics.confusion_matrix(labels, maxX)\n",
        "cm = cm-np.diag(five_perc)                       # remove data of which I know labels\n",
        "\n",
        "# Compute the accuracy of the class assignment\n",
        "acc10_3,prec10_3,rec10_3 = validation_metrics(cm)\n",
        "print('Accuracy:', acc10_3, '\\nRecall:', rec10_3, '\\nPrecision:', prec10_3)\n",
        "\n",
        "# Show the confusion matrix\n",
        "pd.DataFrame(cm)"
      ],
      "execution_count": null,
      "outputs": [
        {
          "output_type": "stream",
          "text": [
            "Accuracy: 0.7211690363349131 \n",
            "Recall: 0.72787782489164 \n",
            "Precision: 0.6917804965300907\n"
          ],
          "name": "stdout"
        },
        {
          "output_type": "execute_result",
          "data": {
            "text/html": [
              "<div>\n",
              "<style scoped>\n",
              "    .dataframe tbody tr th:only-of-type {\n",
              "        vertical-align: middle;\n",
              "    }\n",
              "\n",
              "    .dataframe tbody tr th {\n",
              "        vertical-align: top;\n",
              "    }\n",
              "\n",
              "    .dataframe thead th {\n",
              "        text-align: right;\n",
              "    }\n",
              "</style>\n",
              "<table border=\"1\" class=\"dataframe\">\n",
              "  <thead>\n",
              "    <tr style=\"text-align: right;\">\n",
              "      <th></th>\n",
              "      <th>0</th>\n",
              "      <th>1</th>\n",
              "      <th>2</th>\n",
              "      <th>3</th>\n",
              "      <th>4</th>\n",
              "      <th>5</th>\n",
              "      <th>6</th>\n",
              "    </tr>\n",
              "  </thead>\n",
              "  <tbody>\n",
              "    <tr>\n",
              "      <th>0</th>\n",
              "      <td>189</td>\n",
              "      <td>3</td>\n",
              "      <td>1</td>\n",
              "      <td>8</td>\n",
              "      <td>0</td>\n",
              "      <td>0</td>\n",
              "      <td>9</td>\n",
              "    </tr>\n",
              "    <tr>\n",
              "      <th>1</th>\n",
              "      <td>2</td>\n",
              "      <td>117</td>\n",
              "      <td>19</td>\n",
              "      <td>7</td>\n",
              "      <td>17</td>\n",
              "      <td>14</td>\n",
              "      <td>10</td>\n",
              "    </tr>\n",
              "    <tr>\n",
              "      <th>2</th>\n",
              "      <td>0</td>\n",
              "      <td>13</td>\n",
              "      <td>44</td>\n",
              "      <td>0</td>\n",
              "      <td>1</td>\n",
              "      <td>2</td>\n",
              "      <td>2</td>\n",
              "    </tr>\n",
              "    <tr>\n",
              "      <th>3</th>\n",
              "      <td>18</td>\n",
              "      <td>26</td>\n",
              "      <td>7</td>\n",
              "      <td>213</td>\n",
              "      <td>18</td>\n",
              "      <td>13</td>\n",
              "      <td>39</td>\n",
              "    </tr>\n",
              "    <tr>\n",
              "      <th>4</th>\n",
              "      <td>6</td>\n",
              "      <td>4</td>\n",
              "      <td>13</td>\n",
              "      <td>4</td>\n",
              "      <td>102</td>\n",
              "      <td>5</td>\n",
              "      <td>11</td>\n",
              "    </tr>\n",
              "    <tr>\n",
              "      <th>5</th>\n",
              "      <td>1</td>\n",
              "      <td>17</td>\n",
              "      <td>1</td>\n",
              "      <td>20</td>\n",
              "      <td>6</td>\n",
              "      <td>157</td>\n",
              "      <td>9</td>\n",
              "    </tr>\n",
              "    <tr>\n",
              "      <th>6</th>\n",
              "      <td>14</td>\n",
              "      <td>3</td>\n",
              "      <td>1</td>\n",
              "      <td>2</td>\n",
              "      <td>3</td>\n",
              "      <td>4</td>\n",
              "      <td>91</td>\n",
              "    </tr>\n",
              "  </tbody>\n",
              "</table>\n",
              "</div>"
            ],
            "text/plain": [
              "     0    1   2    3    4    5   6\n",
              "0  189    3   1    8    0    0   9\n",
              "1    2  117  19    7   17   14  10\n",
              "2    0   13  44    0    1    2   2\n",
              "3   18   26   7  213   18   13  39\n",
              "4    6    4  13    4  102    5  11\n",
              "5    1   17   1   20    6  157   9\n",
              "6   14    3   1    2    3    4  91"
            ]
          },
          "metadata": {
            "tags": []
          },
          "execution_count": 91
        }
      ]
    },
    {
      "cell_type": "code",
      "metadata": {
        "colab": {
          "base_uri": "https://localhost:8080/",
          "height": 297
        },
        "id": "L9iddSiboHPb",
        "outputId": "9a3b93eb-ea5d-4b43-ad30-9ac956edf521"
      },
      "source": [
        "plt.plot(alpha,[100*acc5_1,100*acc5_2,100*acc5_3])\n",
        "plt.plot(alpha,[100*prec5_1,100*prec5_2,100*prec5_3])\n",
        "plt.plot(alpha,[100*rec5_1,100*rec5_2,100*rec5_3])\n",
        "plt.xlabel('alpha')\n",
        "plt.ylabel('%')\n",
        "plt.legend(['Accuracy','Precision','Recall'])\n",
        "plt.title('Label spreading with 5% of nodes')\n",
        "plt.tight_layout()\n",
        "plt.show()"
      ],
      "execution_count": null,
      "outputs": [
        {
          "output_type": "display_data",
          "data": {
            "image/png": "[encoded data removed]",
            "text/plain": [
              "<Figure size 432x288 with 1 Axes>"
            ]
          },
          "metadata": {
            "tags": [],
            "needs_background": "light"
          }
        }
      ]
    },
    {
      "cell_type": "code",
      "metadata": {
        "colab": {
          "base_uri": "https://localhost:8080/",
          "height": 297
        },
        "id": "X6eTQ3l3oKII",
        "outputId": "7678e6fd-b713-47ba-a79d-36ab1c0359cd"
      },
      "source": [
        "plt.plot(alpha,[100*acc10_1,100*acc10_2,100*acc10_3])\n",
        "plt.plot(alpha,[100*prec10_1,100*prec10_2,100*prec10_3])\n",
        "plt.plot(alpha,[100*rec10_1,100*rec10_2,100*rec10_3])\n",
        "plt.xlabel('alpha')\n",
        "plt.ylabel('%')\n",
        "plt.legend(['Accuracy','Precision','Recall'])\n",
        "plt.title('Label spreading with 10% of nodes')\n",
        "plt.tight_layout()\n",
        "plt.show()"
      ],
      "execution_count": null,
      "outputs": [
        {
          "output_type": "display_data",
          "data": {
            "image/png": "[encoded data removed]",
            "text/plain": [
              "<Figure size 432x288 with 1 Axes>"
            ]
          },
          "metadata": {
            "tags": [],
            "needs_background": "light"
          }
        }
      ]
    },
    {
      "cell_type": "markdown",
      "metadata": {
        "id": "rz2CaVoKp8gn"
      },
      "source": [
        "### Feature spreading (optional)\n",
        "Now we want observe improvements, if any, obtained when using all the node features as input embedding. Recall $Y\\sim n\\times K$ is the one-hot encoding of the input labels, i.e. a matrix with $K$ columns each of which has exactly one nonzero entry pointing at the label number of that node; $X\\sim n\\times d$ is a matrix of features, where each row is the feature vector of the corresponding node. \n",
        "\n",
        "First we do a sanity check:\n",
        "1. train a logistic regression classifier using $Y$ and use it to predic the labels on the test data (the nonlabeled nodes) after label spreading instead of using argmax on the rows. Verify that you get the same (or almost the same) accuracy.\n",
        "You can do this by using python's `sklearn` see eg [here](https://scikit-learn.org/stable/modules/generated/sklearn.linear_model.LogisticRegression.html)"
      ]
    },
    {
      "cell_type": "code",
      "metadata": {
        "id": "SjxjJK75gG3u"
      },
      "source": [
        "logis = LogisticRegression()     # Initialize logistic regression"
      ],
      "execution_count": null,
      "outputs": []
    },
    {
      "cell_type": "markdown",
      "metadata": {
        "id": "Ct-J902ooAwV"
      },
      "source": [
        "Compute training data and their labels. $x-train$ are just rows of $Y$ for which I know the label where I substitude to the non-zero entry a very high value. I do that in order to have a logistic regression that works as an $argmax$.\n"
      ]
    },
    {
      "cell_type": "code",
      "metadata": {
        "id": "3Q6Ypqnvy3_2"
      },
      "source": [
        "x_train = Y[index_training_data,:]\n",
        "y_train = labels[index_training_data]\n",
        "x_train[np.where(x_train>0)]=10000000"
      ],
      "execution_count": null,
      "outputs": []
    },
    {
      "cell_type": "markdown",
      "metadata": {
        "id": "LWaHtAXApKZM"
      },
      "source": [
        "Train the logistic regression and use it to predict labels on test data"
      ]
    },
    {
      "cell_type": "code",
      "metadata": {
        "id": "0g76nyKDExdz"
      },
      "source": [
        "logis.fit(x_train,y_train)\n",
        "sol = logis.predict(X)"
      ],
      "execution_count": null,
      "outputs": []
    },
    {
      "cell_type": "markdown",
      "metadata": {
        "id": "z0LbUee-p0kj"
      },
      "source": [
        "As one can see behind we get almost the same accuracy as before."
      ]
    },
    {
      "cell_type": "code",
      "metadata": {
        "colab": {
          "base_uri": "https://localhost:8080/",
          "height": 324
        },
        "id": "iCn0pKvgpUsB",
        "outputId": "14e97cd3-59a5-4f8e-a301-13c1a274f1a0"
      },
      "source": [
        "# Evaluate confusion matrix\n",
        "cm = metrics.confusion_matrix(labels, sol)\n",
        "cm = cm-np.diag(ten_perc)                       # remove data of which I know labels\n",
        "\n",
        "# Compute the accuracy of the class assignment\n",
        "acc,prec,rec = validation_metrics(cm)\n",
        "print('Accuracy:', acc, '\\nRecall:', rec, '\\nPrecision:', prec)\n",
        "\n",
        "# Show the confusion matrix\n",
        "pd.DataFrame(cm)"
      ],
      "execution_count": null,
      "outputs": [
        {
          "output_type": "stream",
          "text": [
            "Accuracy: 0.7422852376980817 \n",
            "Recall: 0.722324202790328 \n",
            "Precision: 0.7301432792462543\n"
          ],
          "name": "stdout"
        },
        {
          "output_type": "execute_result",
          "data": {
            "text/html": [
              "<div>\n",
              "<style scoped>\n",
              "    .dataframe tbody tr th:only-of-type {\n",
              "        vertical-align: middle;\n",
              "    }\n",
              "\n",
              "    .dataframe tbody tr th {\n",
              "        vertical-align: top;\n",
              "    }\n",
              "\n",
              "    .dataframe thead th {\n",
              "        text-align: right;\n",
              "    }\n",
              "</style>\n",
              "<table border=\"1\" class=\"dataframe\">\n",
              "  <thead>\n",
              "    <tr style=\"text-align: right;\">\n",
              "      <th></th>\n",
              "      <th>0</th>\n",
              "      <th>1</th>\n",
              "      <th>2</th>\n",
              "      <th>3</th>\n",
              "      <th>4</th>\n",
              "      <th>5</th>\n",
              "      <th>6</th>\n",
              "    </tr>\n",
              "  </thead>\n",
              "  <tbody>\n",
              "    <tr>\n",
              "      <th>0</th>\n",
              "      <td>179</td>\n",
              "      <td>3</td>\n",
              "      <td>0</td>\n",
              "      <td>16</td>\n",
              "      <td>0</td>\n",
              "      <td>0</td>\n",
              "      <td>1</td>\n",
              "    </tr>\n",
              "    <tr>\n",
              "      <th>1</th>\n",
              "      <td>3</td>\n",
              "      <td>110</td>\n",
              "      <td>7</td>\n",
              "      <td>16</td>\n",
              "      <td>16</td>\n",
              "      <td>17</td>\n",
              "      <td>7</td>\n",
              "    </tr>\n",
              "    <tr>\n",
              "      <th>2</th>\n",
              "      <td>1</td>\n",
              "      <td>12</td>\n",
              "      <td>36</td>\n",
              "      <td>4</td>\n",
              "      <td>1</td>\n",
              "      <td>2</td>\n",
              "      <td>3</td>\n",
              "    </tr>\n",
              "    <tr>\n",
              "      <th>3</th>\n",
              "      <td>9</td>\n",
              "      <td>26</td>\n",
              "      <td>3</td>\n",
              "      <td>241</td>\n",
              "      <td>12</td>\n",
              "      <td>12</td>\n",
              "      <td>13</td>\n",
              "    </tr>\n",
              "    <tr>\n",
              "      <th>4</th>\n",
              "      <td>7</td>\n",
              "      <td>7</td>\n",
              "      <td>3</td>\n",
              "      <td>5</td>\n",
              "      <td>96</td>\n",
              "      <td>6</td>\n",
              "      <td>13</td>\n",
              "    </tr>\n",
              "    <tr>\n",
              "      <th>5</th>\n",
              "      <td>1</td>\n",
              "      <td>15</td>\n",
              "      <td>1</td>\n",
              "      <td>28</td>\n",
              "      <td>2</td>\n",
              "      <td>147</td>\n",
              "      <td>6</td>\n",
              "    </tr>\n",
              "    <tr>\n",
              "      <th>6</th>\n",
              "      <td>17</td>\n",
              "      <td>3</td>\n",
              "      <td>0</td>\n",
              "      <td>4</td>\n",
              "      <td>3</td>\n",
              "      <td>4</td>\n",
              "      <td>81</td>\n",
              "    </tr>\n",
              "  </tbody>\n",
              "</table>\n",
              "</div>"
            ],
            "text/plain": [
              "     0    1   2    3   4    5   6\n",
              "0  179    3   0   16   0    0   1\n",
              "1    3  110   7   16  16   17   7\n",
              "2    1   12  36    4   1    2   3\n",
              "3    9   26   3  241  12   12  13\n",
              "4    7    7   3    5  96    6  13\n",
              "5    1   15   1   28   2  147   6\n",
              "6   17    3   0    4   3    4  81"
            ]
          },
          "metadata": {
            "tags": []
          },
          "execution_count": 97
        }
      ]
    },
    {
      "cell_type": "markdown",
      "metadata": {
        "id": "Slqlesdrp8go"
      },
      "source": [
        "Second, we run label spreading using the whole features as input. In other words we look at the limit point $Z^*$ of the sequence \n",
        "$$\n",
        "    Z^{(r+1)} = \\alpha AD^{-1}Z^{(r)} + (1-\\alpha)[Y X]\n",
        "$$\n",
        "where $[YX] \\sim n \\times (K+d)$ is the matrix obtained stacking label one-hot encoding and feature vectors one after the other. \n"
      ]
    },
    {
      "cell_type": "markdown",
      "metadata": {
        "id": "R8RHjbunp8gp"
      },
      "source": [
        "We repeat the same experiments as in the points 1-6 above, but predictions are now done using logistic regression on the new embedding:\n",
        " - Once the $n\\times (K\\times d)$ matrix $Z^*$ is computed we train a logistic regression classifier using the new embedding given by the rows of $Z^*$ corresponding to the training nodes (the nodes we know the label of) and then fitting it to predict the label of the unlabeled points. "
      ]
    },
    {
      "cell_type": "markdown",
      "metadata": {
        "id": "2pPpuYfdp8gq"
      },
      "source": [
        "**Warning:**  \n",
        "running LS on the whole feature embedding (with size $K+d$) may be expensive. To avoid long waits, I suggest you first subsample and choose for example only the first say 50 columns of $X$"
      ]
    },
    {
      "cell_type": "markdown",
      "metadata": {
        "id": "2b1ERJUcvMNs"
      },
      "source": [
        "Take 10% of data from each class and use them as training data"
      ]
    },
    {
      "cell_type": "code",
      "metadata": {
        "id": "x7eGGjV5t22V"
      },
      "source": [
        "ten_perc = tot_labels//10            # number of training data for each class\n",
        "index_training_data, Y = Y_matrix(labels, mat_labels, ten_perc)"
      ],
      "execution_count": null,
      "outputs": []
    },
    {
      "cell_type": "code",
      "metadata": {
        "id": "r2b0ABhZVbYL"
      },
      "source": [
        "H = sp.sparse.hstack([csr_matrix(Y),features],format='csc') # concatenate Y and features"
      ],
      "execution_count": null,
      "outputs": []
    },
    {
      "cell_type": "markdown",
      "metadata": {
        "id": "iRFFRkdfqXgs"
      },
      "source": [
        "Find solution of the new system with $\\alpha=0.75$"
      ]
    },
    {
      "cell_type": "code",
      "metadata": {
        "id": "dWqrcMCLSG9f"
      },
      "source": [
        "alfa=0.75\n",
        "Z = sp.sparse.csc_matrix.toarray(tensor_pagerank(sp.sparse.csc_matrix(A), H, alfa))"
      ],
      "execution_count": null,
      "outputs": []
    },
    {
      "cell_type": "markdown",
      "metadata": {
        "id": "lT0YW2dEIY1L"
      },
      "source": [
        "Implement a logistic regression"
      ]
    },
    {
      "cell_type": "code",
      "metadata": {
        "id": "PjQXLhCwITCv"
      },
      "source": [
        "logis = LogisticRegression()            # Initialization\n",
        "x_train = Z[index_training_data,:]\n",
        "y_train = labels[index_training_data]\n",
        "logis.fit(x_train,y_train)              # train\n",
        "sol = logis.predict(Z)                  # solution"
      ],
      "execution_count": null,
      "outputs": []
    },
    {
      "cell_type": "code",
      "metadata": {
        "colab": {
          "base_uri": "https://localhost:8080/",
          "height": 324
        },
        "id": "gdo_NbxaIkGz",
        "outputId": "99aac1c4-4075-4ea4-d008-e7895ef73997"
      },
      "source": [
        "# Evaluate confusion matrix\n",
        "cm = metrics.confusion_matrix(labels, sol)\n",
        "cm = cm-np.diag(ten_perc)                       # remove data of which I know labels\n",
        "\n",
        "# Compute the accuracy of the class assignment\n",
        "acc1,prec1,rec1 = validation_metrics(cm)\n",
        "print('Accuracy:', acc1, '\\nRecall:', rec1, '\\nPrecision:', prec1)\n",
        "\n",
        "# Show the confusion matrix\n",
        "pd.DataFrame(cm)"
      ],
      "execution_count": null,
      "outputs": [
        {
          "output_type": "stream",
          "text": [
            "Accuracy: 0.7706422018348624 \n",
            "Recall: 0.6717698572016831 \n",
            "Precision: 0.8394818356800566\n"
          ],
          "name": "stdout"
        },
        {
          "output_type": "execute_result",
          "data": {
            "text/html": [
              "<div>\n",
              "<style scoped>\n",
              "    .dataframe tbody tr th:only-of-type {\n",
              "        vertical-align: middle;\n",
              "    }\n",
              "\n",
              "    .dataframe tbody tr th {\n",
              "        vertical-align: top;\n",
              "    }\n",
              "\n",
              "    .dataframe thead th {\n",
              "        text-align: right;\n",
              "    }\n",
              "</style>\n",
              "<table border=\"1\" class=\"dataframe\">\n",
              "  <thead>\n",
              "    <tr style=\"text-align: right;\">\n",
              "      <th></th>\n",
              "      <th>0</th>\n",
              "      <th>1</th>\n",
              "      <th>2</th>\n",
              "      <th>3</th>\n",
              "      <th>4</th>\n",
              "      <th>5</th>\n",
              "      <th>6</th>\n",
              "    </tr>\n",
              "  </thead>\n",
              "  <tbody>\n",
              "    <tr>\n",
              "      <th>0</th>\n",
              "      <td>188</td>\n",
              "      <td>2</td>\n",
              "      <td>0</td>\n",
              "      <td>6</td>\n",
              "      <td>1</td>\n",
              "      <td>0</td>\n",
              "      <td>2</td>\n",
              "    </tr>\n",
              "    <tr>\n",
              "      <th>1</th>\n",
              "      <td>3</td>\n",
              "      <td>129</td>\n",
              "      <td>0</td>\n",
              "      <td>27</td>\n",
              "      <td>2</td>\n",
              "      <td>14</td>\n",
              "      <td>1</td>\n",
              "    </tr>\n",
              "    <tr>\n",
              "      <th>2</th>\n",
              "      <td>1</td>\n",
              "      <td>31</td>\n",
              "      <td>9</td>\n",
              "      <td>13</td>\n",
              "      <td>4</td>\n",
              "      <td>1</td>\n",
              "      <td>0</td>\n",
              "    </tr>\n",
              "    <tr>\n",
              "      <th>3</th>\n",
              "      <td>7</td>\n",
              "      <td>7</td>\n",
              "      <td>0</td>\n",
              "      <td>292</td>\n",
              "      <td>1</td>\n",
              "      <td>8</td>\n",
              "      <td>1</td>\n",
              "    </tr>\n",
              "    <tr>\n",
              "      <th>4</th>\n",
              "      <td>3</td>\n",
              "      <td>18</td>\n",
              "      <td>0</td>\n",
              "      <td>20</td>\n",
              "      <td>93</td>\n",
              "      <td>3</td>\n",
              "      <td>0</td>\n",
              "    </tr>\n",
              "    <tr>\n",
              "      <th>5</th>\n",
              "      <td>1</td>\n",
              "      <td>4</td>\n",
              "      <td>0</td>\n",
              "      <td>31</td>\n",
              "      <td>3</td>\n",
              "      <td>161</td>\n",
              "      <td>0</td>\n",
              "    </tr>\n",
              "    <tr>\n",
              "      <th>6</th>\n",
              "      <td>13</td>\n",
              "      <td>6</td>\n",
              "      <td>0</td>\n",
              "      <td>37</td>\n",
              "      <td>0</td>\n",
              "      <td>4</td>\n",
              "      <td>52</td>\n",
              "    </tr>\n",
              "  </tbody>\n",
              "</table>\n",
              "</div>"
            ],
            "text/plain": [
              "     0    1  2    3   4    5   6\n",
              "0  188    2  0    6   1    0   2\n",
              "1    3  129  0   27   2   14   1\n",
              "2    1   31  9   13   4    1   0\n",
              "3    7    7  0  292   1    8   1\n",
              "4    3   18  0   20  93    3   0\n",
              "5    1    4  0   31   3  161   0\n",
              "6   13    6  0   37   0    4  52"
            ]
          },
          "metadata": {
            "tags": []
          },
          "execution_count": 102
        }
      ]
    },
    {
      "cell_type": "markdown",
      "metadata": {
        "id": "NrChfNS3vjkm"
      },
      "source": [
        "Find solution of the new system with $\\alpha=0.5$"
      ]
    },
    {
      "cell_type": "code",
      "metadata": {
        "id": "F5nSnSNhvn0q"
      },
      "source": [
        "alfa=0.5\n",
        "Z = sp.sparse.csc_matrix.toarray(tensor_pagerank(sp.sparse.csc_matrix(A), H, alfa))"
      ],
      "execution_count": null,
      "outputs": []
    },
    {
      "cell_type": "markdown",
      "metadata": {
        "id": "12k12K22vq9o"
      },
      "source": [
        "Implement a logistic regression"
      ]
    },
    {
      "cell_type": "code",
      "metadata": {
        "id": "ExBfCx7xvuTj"
      },
      "source": [
        "logis = LogisticRegression()            # Initialization\n",
        "x_train = Z[index_training_data,:]\n",
        "y_train = labels[index_training_data]\n",
        "logis.fit(x_train,y_train)              # train\n",
        "sol = logis.predict(Z)                  # solution"
      ],
      "execution_count": null,
      "outputs": []
    },
    {
      "cell_type": "code",
      "metadata": {
        "colab": {
          "base_uri": "https://localhost:8080/",
          "height": 324
        },
        "id": "NzM0rUASv0Em",
        "outputId": "3863cddb-cc2a-444f-ecc5-9204910b5e41"
      },
      "source": [
        "# Evaluate confusion matrix\n",
        "cm = metrics.confusion_matrix(labels, sol)\n",
        "cm = cm-np.diag(ten_perc)                       # remove data of which I know labels\n",
        "\n",
        "# Compute the accuracy of the class assignment\n",
        "acc2,prec2,rec2 = validation_metrics(cm)\n",
        "print('Accuracy:', acc2, '\\nRecall:', rec2, '\\nPrecision:', prec2)\n",
        "\n",
        "# Show the confusion matrix\n",
        "pd.DataFrame(cm)"
      ],
      "execution_count": null,
      "outputs": [
        {
          "output_type": "stream",
          "text": [
            "Accuracy: 0.7456213511259383 \n",
            "Recall: 0.6561914925198894 \n",
            "Precision: 0.7994003526791124\n"
          ],
          "name": "stdout"
        },
        {
          "output_type": "execute_result",
          "data": {
            "text/html": [
              "<div>\n",
              "<style scoped>\n",
              "    .dataframe tbody tr th:only-of-type {\n",
              "        vertical-align: middle;\n",
              "    }\n",
              "\n",
              "    .dataframe tbody tr th {\n",
              "        vertical-align: top;\n",
              "    }\n",
              "\n",
              "    .dataframe thead th {\n",
              "        text-align: right;\n",
              "    }\n",
              "</style>\n",
              "<table border=\"1\" class=\"dataframe\">\n",
              "  <thead>\n",
              "    <tr style=\"text-align: right;\">\n",
              "      <th></th>\n",
              "      <th>0</th>\n",
              "      <th>1</th>\n",
              "      <th>2</th>\n",
              "      <th>3</th>\n",
              "      <th>4</th>\n",
              "      <th>5</th>\n",
              "      <th>6</th>\n",
              "    </tr>\n",
              "  </thead>\n",
              "  <tbody>\n",
              "    <tr>\n",
              "      <th>0</th>\n",
              "      <td>184</td>\n",
              "      <td>3</td>\n",
              "      <td>0</td>\n",
              "      <td>7</td>\n",
              "      <td>1</td>\n",
              "      <td>1</td>\n",
              "      <td>3</td>\n",
              "    </tr>\n",
              "    <tr>\n",
              "      <th>1</th>\n",
              "      <td>9</td>\n",
              "      <td>117</td>\n",
              "      <td>0</td>\n",
              "      <td>30</td>\n",
              "      <td>2</td>\n",
              "      <td>17</td>\n",
              "      <td>1</td>\n",
              "    </tr>\n",
              "    <tr>\n",
              "      <th>2</th>\n",
              "      <td>2</td>\n",
              "      <td>20</td>\n",
              "      <td>11</td>\n",
              "      <td>18</td>\n",
              "      <td>5</td>\n",
              "      <td>3</td>\n",
              "      <td>0</td>\n",
              "    </tr>\n",
              "    <tr>\n",
              "      <th>3</th>\n",
              "      <td>9</td>\n",
              "      <td>8</td>\n",
              "      <td>0</td>\n",
              "      <td>283</td>\n",
              "      <td>0</td>\n",
              "      <td>15</td>\n",
              "      <td>1</td>\n",
              "    </tr>\n",
              "    <tr>\n",
              "      <th>4</th>\n",
              "      <td>3</td>\n",
              "      <td>16</td>\n",
              "      <td>1</td>\n",
              "      <td>20</td>\n",
              "      <td>90</td>\n",
              "      <td>5</td>\n",
              "      <td>2</td>\n",
              "    </tr>\n",
              "    <tr>\n",
              "      <th>5</th>\n",
              "      <td>5</td>\n",
              "      <td>9</td>\n",
              "      <td>0</td>\n",
              "      <td>29</td>\n",
              "      <td>4</td>\n",
              "      <td>153</td>\n",
              "      <td>0</td>\n",
              "    </tr>\n",
              "    <tr>\n",
              "      <th>6</th>\n",
              "      <td>13</td>\n",
              "      <td>10</td>\n",
              "      <td>0</td>\n",
              "      <td>28</td>\n",
              "      <td>0</td>\n",
              "      <td>5</td>\n",
              "      <td>56</td>\n",
              "    </tr>\n",
              "  </tbody>\n",
              "</table>\n",
              "</div>"
            ],
            "text/plain": [
              "     0    1   2    3   4    5   6\n",
              "0  184    3   0    7   1    1   3\n",
              "1    9  117   0   30   2   17   1\n",
              "2    2   20  11   18   5    3   0\n",
              "3    9    8   0  283   0   15   1\n",
              "4    3   16   1   20  90    5   2\n",
              "5    5    9   0   29   4  153   0\n",
              "6   13   10   0   28   0    5  56"
            ]
          },
          "metadata": {
            "tags": []
          },
          "execution_count": 105
        }
      ]
    },
    {
      "cell_type": "markdown",
      "metadata": {
        "id": "r3EmyXKLwF4L"
      },
      "source": [
        "Find solution of the new system with $\\alpha=0.25$"
      ]
    },
    {
      "cell_type": "code",
      "metadata": {
        "id": "cH2QQI5WwJ1A"
      },
      "source": [
        "alfa=0.25\n",
        "Z = sp.sparse.csc_matrix.toarray(tensor_pagerank(sp.sparse.csc_matrix(A), H, alfa))"
      ],
      "execution_count": null,
      "outputs": []
    },
    {
      "cell_type": "markdown",
      "metadata": {
        "id": "dFsk56cbvrEe"
      },
      "source": [
        "Implement a logistic regression"
      ]
    },
    {
      "cell_type": "code",
      "metadata": {
        "id": "n0vb8QEWvtno"
      },
      "source": [
        "logis = LogisticRegression()            # Initialization\n",
        "x_train = Z[index_training_data,:]\n",
        "y_train = labels[index_training_data]\n",
        "logis.fit(x_train,y_train)              # train\n",
        "sol = logis.predict(Z)                  # solution"
      ],
      "execution_count": null,
      "outputs": []
    },
    {
      "cell_type": "code",
      "metadata": {
        "colab": {
          "base_uri": "https://localhost:8080/",
          "height": 324
        },
        "id": "RLSkhUtnv1Td",
        "outputId": "898b1653-439e-4acf-9d77-91ca5592488f"
      },
      "source": [
        "# Evaluate confusion matrix\n",
        "cm = metrics.confusion_matrix(labels, sol)\n",
        "cm = cm-np.diag(ten_perc)                       # remove data of which I know labels\n",
        "\n",
        "# Compute the accuracy of the class assignment\n",
        "acc3,prec3,rec3 = validation_metrics(cm)\n",
        "print('Accuracy:', acc3, '\\nRecall:', rec3, '\\nPrecision:', prec3)\n",
        "\n",
        "# Show the confusion matrix\n",
        "pd.DataFrame(cm)"
      ],
      "execution_count": null,
      "outputs": [
        {
          "output_type": "stream",
          "text": [
            "Accuracy: 0.6997497914929107 \n",
            "Recall: 0.6112249801337878 \n",
            "Precision: 0.765557586816999\n"
          ],
          "name": "stdout"
        },
        {
          "output_type": "execute_result",
          "data": {
            "text/html": [
              "<div>\n",
              "<style scoped>\n",
              "    .dataframe tbody tr th:only-of-type {\n",
              "        vertical-align: middle;\n",
              "    }\n",
              "\n",
              "    .dataframe tbody tr th {\n",
              "        vertical-align: top;\n",
              "    }\n",
              "\n",
              "    .dataframe thead th {\n",
              "        text-align: right;\n",
              "    }\n",
              "</style>\n",
              "<table border=\"1\" class=\"dataframe\">\n",
              "  <thead>\n",
              "    <tr style=\"text-align: right;\">\n",
              "      <th></th>\n",
              "      <th>0</th>\n",
              "      <th>1</th>\n",
              "      <th>2</th>\n",
              "      <th>3</th>\n",
              "      <th>4</th>\n",
              "      <th>5</th>\n",
              "      <th>6</th>\n",
              "    </tr>\n",
              "  </thead>\n",
              "  <tbody>\n",
              "    <tr>\n",
              "      <th>0</th>\n",
              "      <td>179</td>\n",
              "      <td>4</td>\n",
              "      <td>0</td>\n",
              "      <td>11</td>\n",
              "      <td>0</td>\n",
              "      <td>2</td>\n",
              "      <td>3</td>\n",
              "    </tr>\n",
              "    <tr>\n",
              "      <th>1</th>\n",
              "      <td>13</td>\n",
              "      <td>102</td>\n",
              "      <td>0</td>\n",
              "      <td>36</td>\n",
              "      <td>2</td>\n",
              "      <td>21</td>\n",
              "      <td>2</td>\n",
              "    </tr>\n",
              "    <tr>\n",
              "      <th>2</th>\n",
              "      <td>3</td>\n",
              "      <td>15</td>\n",
              "      <td>9</td>\n",
              "      <td>24</td>\n",
              "      <td>3</td>\n",
              "      <td>4</td>\n",
              "      <td>1</td>\n",
              "    </tr>\n",
              "    <tr>\n",
              "      <th>3</th>\n",
              "      <td>9</td>\n",
              "      <td>12</td>\n",
              "      <td>0</td>\n",
              "      <td>274</td>\n",
              "      <td>0</td>\n",
              "      <td>20</td>\n",
              "      <td>1</td>\n",
              "    </tr>\n",
              "    <tr>\n",
              "      <th>4</th>\n",
              "      <td>9</td>\n",
              "      <td>17</td>\n",
              "      <td>1</td>\n",
              "      <td>25</td>\n",
              "      <td>77</td>\n",
              "      <td>5</td>\n",
              "      <td>3</td>\n",
              "    </tr>\n",
              "    <tr>\n",
              "      <th>5</th>\n",
              "      <td>8</td>\n",
              "      <td>10</td>\n",
              "      <td>0</td>\n",
              "      <td>38</td>\n",
              "      <td>4</td>\n",
              "      <td>140</td>\n",
              "      <td>0</td>\n",
              "    </tr>\n",
              "    <tr>\n",
              "      <th>6</th>\n",
              "      <td>11</td>\n",
              "      <td>9</td>\n",
              "      <td>0</td>\n",
              "      <td>28</td>\n",
              "      <td>0</td>\n",
              "      <td>6</td>\n",
              "      <td>58</td>\n",
              "    </tr>\n",
              "  </tbody>\n",
              "</table>\n",
              "</div>"
            ],
            "text/plain": [
              "     0    1  2    3   4    5   6\n",
              "0  179    4  0   11   0    2   3\n",
              "1   13  102  0   36   2   21   2\n",
              "2    3   15  9   24   3    4   1\n",
              "3    9   12  0  274   0   20   1\n",
              "4    9   17  1   25  77    5   3\n",
              "5    8   10  0   38   4  140   0\n",
              "6   11    9  0   28   0    6  58"
            ]
          },
          "metadata": {
            "tags": []
          },
          "execution_count": 108
        }
      ]
    },
    {
      "cell_type": "code",
      "metadata": {
        "colab": {
          "base_uri": "https://localhost:8080/",
          "height": 297
        },
        "id": "ELXj0vm0uRT1",
        "outputId": "c63e043e-2abd-4600-9cdd-8b0998ffa14f"
      },
      "source": [
        "plt.plot(alpha,[100*acc1,100*acc2,100*acc3])\n",
        "plt.plot(alpha,[100*prec1,100*prec2,100*prec3])\n",
        "plt.plot(alpha,[100*rec1,100*rec2,100*rec3])\n",
        "plt.xlabel('alpha')\n",
        "plt.ylabel('%')\n",
        "plt.legend(['Accuracy','Precision','Recall'])\n",
        "plt.title('Label spreading with 10% of nodes')\n",
        "plt.tight_layout()\n",
        "plt.show()"
      ],
      "execution_count": null,
      "outputs": [
        {
          "output_type": "display_data",
          "data": {
            "image/png": "[encoded data removed]",
            "text/plain": [
              "<Figure size 432x288 with 1 Axes>"
            ]
          },
          "metadata": {
            "tags": [],
            "needs_background": "light"
          }
        }
      ]
    }
  ]
}